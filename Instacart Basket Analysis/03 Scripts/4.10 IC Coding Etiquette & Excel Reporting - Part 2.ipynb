{
 "cells": [
  {
   "cell_type": "markdown",
   "id": "9b385893",
   "metadata": {},
   "source": [
    "## 4.10 IC Coding Etiquette & Excel Reporting - Part 2\n",
    "### This script will include\n",
    "#### 00. Importing Libraries and Data\n",
    "\n",
    "### Continuation of 4.10 Part 1\n",
    "#### 04. Create a profiling variable\n",
    "#### 05. Create and appropraite visualization to show the distribution of profiles\n",
    "#### 06. Aggregate the max, mean, and min variables on a customer-profile level for usage frequency and expenditure.\n",
    "#### 07. Compare your customer profiles with regions and departments. Produce suitable charts to ilustrate your results\n",
    "#### 08. Export visuals\n",
    "#### 09. Export data"
   ]
  },
  {
   "cell_type": "markdown",
   "id": "334f6bef",
   "metadata": {},
   "source": [
    "### 00. Importing Libraries and Data"
   ]
  },
  {
   "cell_type": "code",
   "execution_count": 1,
   "id": "0a14ca5c",
   "metadata": {},
   "outputs": [],
   "source": [
    "# Import libraries\n",
    "\n",
    "import pandas as pd\n",
    "import numpy as np\n",
    "import os\n",
    "import matplotlib.pyplot as plt\n",
    "import seaborn as sns\n",
    "import scipy"
   ]
  },
  {
   "cell_type": "code",
   "execution_count": 2,
   "id": "eee92033",
   "metadata": {},
   "outputs": [],
   "source": [
    "# Create a folderpath shortcut\n",
    "\n",
    "path = r'C:\\Users\\Victoria\\Desktop\\Data Analytics Career Foundry\\4.0 Python Fundamentals for Data Analysts\\Instacart Basket Analysis'"
   ]
  },
  {
   "cell_type": "code",
   "execution_count": 3,
   "id": "818416ca",
   "metadata": {},
   "outputs": [],
   "source": [
    "# Import 'orders_products_customers_merged.pkl' as ic_data\n",
    "\n",
    "ic_data = pd.read_pickle(os.path.join(path, '02 Data', 'Prepared Data', 'ic_data_4_10_p1.pkl'))"
   ]
  },
  {
   "cell_type": "code",
   "execution_count": 4,
   "id": "51c36ce9",
   "metadata": {},
   "outputs": [],
   "source": [
    "# Import department data\n",
    "df_dept = pd.read_csv(os.path.join(path, '02 Data', 'Prepared Data', 'departments_wrangled.csv'), index_col = False)"
   ]
  },
  {
   "cell_type": "code",
   "execution_count": 5,
   "id": "307d0413",
   "metadata": {},
   "outputs": [
    {
     "data": {
      "text/plain": [
       "(32404859, 33)"
      ]
     },
     "execution_count": 5,
     "metadata": {},
     "output_type": "execute_result"
    }
   ],
   "source": [
    "# Check import ic_data\n",
    "\n",
    "ic_data.shape"
   ]
  },
  {
   "cell_type": "code",
   "execution_count": 6,
   "id": "3ac1112e",
   "metadata": {},
   "outputs": [
    {
     "data": {
      "text/html": [
       "<div>\n",
       "<style scoped>\n",
       "    .dataframe tbody tr th:only-of-type {\n",
       "        vertical-align: middle;\n",
       "    }\n",
       "\n",
       "    .dataframe tbody tr th {\n",
       "        vertical-align: top;\n",
       "    }\n",
       "\n",
       "    .dataframe thead th {\n",
       "        text-align: right;\n",
       "    }\n",
       "</style>\n",
       "<table border=\"1\" class=\"dataframe\">\n",
       "  <thead>\n",
       "    <tr style=\"text-align: right;\">\n",
       "      <th></th>\n",
       "      <th>order_id</th>\n",
       "      <th>user_id</th>\n",
       "      <th>order_number</th>\n",
       "      <th>orders_day_of_the_week</th>\n",
       "      <th>order_hour_of_day</th>\n",
       "      <th>days_since_prior_order</th>\n",
       "      <th>product_id</th>\n",
       "      <th>add_to_cart_order</th>\n",
       "      <th>reordered</th>\n",
       "      <th>product_name</th>\n",
       "      <th>...</th>\n",
       "      <th>order_frequency_flag</th>\n",
       "      <th>gender</th>\n",
       "      <th>state</th>\n",
       "      <th>age</th>\n",
       "      <th>date_joined</th>\n",
       "      <th>n_dependants</th>\n",
       "      <th>fam_status</th>\n",
       "      <th>income</th>\n",
       "      <th>region</th>\n",
       "      <th>customer_activity</th>\n",
       "    </tr>\n",
       "  </thead>\n",
       "  <tbody>\n",
       "    <tr>\n",
       "      <th>0</th>\n",
       "      <td>2539329</td>\n",
       "      <td>1</td>\n",
       "      <td>1</td>\n",
       "      <td>2</td>\n",
       "      <td>8</td>\n",
       "      <td>NaN</td>\n",
       "      <td>196</td>\n",
       "      <td>1</td>\n",
       "      <td>0</td>\n",
       "      <td>Soda</td>\n",
       "      <td>...</td>\n",
       "      <td>Non-frequent customer</td>\n",
       "      <td>Female</td>\n",
       "      <td>Alabama</td>\n",
       "      <td>31</td>\n",
       "      <td>2/17/2019</td>\n",
       "      <td>3</td>\n",
       "      <td>married</td>\n",
       "      <td>40423</td>\n",
       "      <td>South</td>\n",
       "      <td>High-activity customer</td>\n",
       "    </tr>\n",
       "    <tr>\n",
       "      <th>1</th>\n",
       "      <td>2398795</td>\n",
       "      <td>1</td>\n",
       "      <td>2</td>\n",
       "      <td>3</td>\n",
       "      <td>7</td>\n",
       "      <td>15.0</td>\n",
       "      <td>196</td>\n",
       "      <td>1</td>\n",
       "      <td>1</td>\n",
       "      <td>Soda</td>\n",
       "      <td>...</td>\n",
       "      <td>Non-frequent customer</td>\n",
       "      <td>Female</td>\n",
       "      <td>Alabama</td>\n",
       "      <td>31</td>\n",
       "      <td>2/17/2019</td>\n",
       "      <td>3</td>\n",
       "      <td>married</td>\n",
       "      <td>40423</td>\n",
       "      <td>South</td>\n",
       "      <td>High-activity customer</td>\n",
       "    </tr>\n",
       "    <tr>\n",
       "      <th>2</th>\n",
       "      <td>473747</td>\n",
       "      <td>1</td>\n",
       "      <td>3</td>\n",
       "      <td>3</td>\n",
       "      <td>12</td>\n",
       "      <td>21.0</td>\n",
       "      <td>196</td>\n",
       "      <td>1</td>\n",
       "      <td>1</td>\n",
       "      <td>Soda</td>\n",
       "      <td>...</td>\n",
       "      <td>Non-frequent customer</td>\n",
       "      <td>Female</td>\n",
       "      <td>Alabama</td>\n",
       "      <td>31</td>\n",
       "      <td>2/17/2019</td>\n",
       "      <td>3</td>\n",
       "      <td>married</td>\n",
       "      <td>40423</td>\n",
       "      <td>South</td>\n",
       "      <td>High-activity customer</td>\n",
       "    </tr>\n",
       "    <tr>\n",
       "      <th>3</th>\n",
       "      <td>2254736</td>\n",
       "      <td>1</td>\n",
       "      <td>4</td>\n",
       "      <td>4</td>\n",
       "      <td>7</td>\n",
       "      <td>29.0</td>\n",
       "      <td>196</td>\n",
       "      <td>1</td>\n",
       "      <td>1</td>\n",
       "      <td>Soda</td>\n",
       "      <td>...</td>\n",
       "      <td>Non-frequent customer</td>\n",
       "      <td>Female</td>\n",
       "      <td>Alabama</td>\n",
       "      <td>31</td>\n",
       "      <td>2/17/2019</td>\n",
       "      <td>3</td>\n",
       "      <td>married</td>\n",
       "      <td>40423</td>\n",
       "      <td>South</td>\n",
       "      <td>High-activity customer</td>\n",
       "    </tr>\n",
       "    <tr>\n",
       "      <th>4</th>\n",
       "      <td>431534</td>\n",
       "      <td>1</td>\n",
       "      <td>5</td>\n",
       "      <td>4</td>\n",
       "      <td>15</td>\n",
       "      <td>28.0</td>\n",
       "      <td>196</td>\n",
       "      <td>1</td>\n",
       "      <td>1</td>\n",
       "      <td>Soda</td>\n",
       "      <td>...</td>\n",
       "      <td>Non-frequent customer</td>\n",
       "      <td>Female</td>\n",
       "      <td>Alabama</td>\n",
       "      <td>31</td>\n",
       "      <td>2/17/2019</td>\n",
       "      <td>3</td>\n",
       "      <td>married</td>\n",
       "      <td>40423</td>\n",
       "      <td>South</td>\n",
       "      <td>High-activity customer</td>\n",
       "    </tr>\n",
       "  </tbody>\n",
       "</table>\n",
       "<p>5 rows × 33 columns</p>\n",
       "</div>"
      ],
      "text/plain": [
       "   order_id  user_id  order_number  orders_day_of_the_week  order_hour_of_day  \\\n",
       "0   2539329        1             1                       2                  8   \n",
       "1   2398795        1             2                       3                  7   \n",
       "2    473747        1             3                       3                 12   \n",
       "3   2254736        1             4                       4                  7   \n",
       "4    431534        1             5                       4                 15   \n",
       "\n",
       "   days_since_prior_order  product_id  add_to_cart_order  reordered  \\\n",
       "0                     NaN         196                  1          0   \n",
       "1                    15.0         196                  1          1   \n",
       "2                    21.0         196                  1          1   \n",
       "3                    29.0         196                  1          1   \n",
       "4                    28.0         196                  1          1   \n",
       "\n",
       "  product_name  ...   order_frequency_flag  gender    state age date_joined  \\\n",
       "0         Soda  ...  Non-frequent customer  Female  Alabama  31   2/17/2019   \n",
       "1         Soda  ...  Non-frequent customer  Female  Alabama  31   2/17/2019   \n",
       "2         Soda  ...  Non-frequent customer  Female  Alabama  31   2/17/2019   \n",
       "3         Soda  ...  Non-frequent customer  Female  Alabama  31   2/17/2019   \n",
       "4         Soda  ...  Non-frequent customer  Female  Alabama  31   2/17/2019   \n",
       "\n",
       "  n_dependants fam_status income  region       customer_activity  \n",
       "0            3    married  40423   South  High-activity customer  \n",
       "1            3    married  40423   South  High-activity customer  \n",
       "2            3    married  40423   South  High-activity customer  \n",
       "3            3    married  40423   South  High-activity customer  \n",
       "4            3    married  40423   South  High-activity customer  \n",
       "\n",
       "[5 rows x 33 columns]"
      ]
     },
     "execution_count": 6,
     "metadata": {},
     "output_type": "execute_result"
    }
   ],
   "source": [
    "# Check import ic_data\n",
    "\n",
    "ic_data.head()"
   ]
  },
  {
   "cell_type": "code",
   "execution_count": 7,
   "id": "9a3a013b",
   "metadata": {},
   "outputs": [
    {
     "data": {
      "text/html": [
       "<div>\n",
       "<style scoped>\n",
       "    .dataframe tbody tr th:only-of-type {\n",
       "        vertical-align: middle;\n",
       "    }\n",
       "\n",
       "    .dataframe tbody tr th {\n",
       "        vertical-align: top;\n",
       "    }\n",
       "\n",
       "    .dataframe thead th {\n",
       "        text-align: right;\n",
       "    }\n",
       "</style>\n",
       "<table border=\"1\" class=\"dataframe\">\n",
       "  <thead>\n",
       "    <tr style=\"text-align: right;\">\n",
       "      <th></th>\n",
       "      <th>Unnamed: 0</th>\n",
       "      <th>department</th>\n",
       "    </tr>\n",
       "  </thead>\n",
       "  <tbody>\n",
       "    <tr>\n",
       "      <th>0</th>\n",
       "      <td>1</td>\n",
       "      <td>frozen</td>\n",
       "    </tr>\n",
       "    <tr>\n",
       "      <th>1</th>\n",
       "      <td>2</td>\n",
       "      <td>other</td>\n",
       "    </tr>\n",
       "    <tr>\n",
       "      <th>2</th>\n",
       "      <td>3</td>\n",
       "      <td>bakery</td>\n",
       "    </tr>\n",
       "    <tr>\n",
       "      <th>3</th>\n",
       "      <td>4</td>\n",
       "      <td>produce</td>\n",
       "    </tr>\n",
       "    <tr>\n",
       "      <th>4</th>\n",
       "      <td>5</td>\n",
       "      <td>alcohol</td>\n",
       "    </tr>\n",
       "    <tr>\n",
       "      <th>5</th>\n",
       "      <td>6</td>\n",
       "      <td>international</td>\n",
       "    </tr>\n",
       "    <tr>\n",
       "      <th>6</th>\n",
       "      <td>7</td>\n",
       "      <td>beverages</td>\n",
       "    </tr>\n",
       "    <tr>\n",
       "      <th>7</th>\n",
       "      <td>8</td>\n",
       "      <td>pets</td>\n",
       "    </tr>\n",
       "    <tr>\n",
       "      <th>8</th>\n",
       "      <td>9</td>\n",
       "      <td>dry goods pasta</td>\n",
       "    </tr>\n",
       "    <tr>\n",
       "      <th>9</th>\n",
       "      <td>10</td>\n",
       "      <td>bulk</td>\n",
       "    </tr>\n",
       "    <tr>\n",
       "      <th>10</th>\n",
       "      <td>11</td>\n",
       "      <td>personal care</td>\n",
       "    </tr>\n",
       "    <tr>\n",
       "      <th>11</th>\n",
       "      <td>12</td>\n",
       "      <td>meat seafood</td>\n",
       "    </tr>\n",
       "    <tr>\n",
       "      <th>12</th>\n",
       "      <td>13</td>\n",
       "      <td>pantry</td>\n",
       "    </tr>\n",
       "    <tr>\n",
       "      <th>13</th>\n",
       "      <td>14</td>\n",
       "      <td>breakfast</td>\n",
       "    </tr>\n",
       "    <tr>\n",
       "      <th>14</th>\n",
       "      <td>15</td>\n",
       "      <td>canned goods</td>\n",
       "    </tr>\n",
       "    <tr>\n",
       "      <th>15</th>\n",
       "      <td>16</td>\n",
       "      <td>dairy eggs</td>\n",
       "    </tr>\n",
       "    <tr>\n",
       "      <th>16</th>\n",
       "      <td>17</td>\n",
       "      <td>household</td>\n",
       "    </tr>\n",
       "    <tr>\n",
       "      <th>17</th>\n",
       "      <td>18</td>\n",
       "      <td>babies</td>\n",
       "    </tr>\n",
       "    <tr>\n",
       "      <th>18</th>\n",
       "      <td>19</td>\n",
       "      <td>snacks</td>\n",
       "    </tr>\n",
       "    <tr>\n",
       "      <th>19</th>\n",
       "      <td>20</td>\n",
       "      <td>deli</td>\n",
       "    </tr>\n",
       "    <tr>\n",
       "      <th>20</th>\n",
       "      <td>21</td>\n",
       "      <td>missing</td>\n",
       "    </tr>\n",
       "  </tbody>\n",
       "</table>\n",
       "</div>"
      ],
      "text/plain": [
       "    Unnamed: 0       department\n",
       "0            1           frozen\n",
       "1            2            other\n",
       "2            3           bakery\n",
       "3            4          produce\n",
       "4            5          alcohol\n",
       "5            6    international\n",
       "6            7        beverages\n",
       "7            8             pets\n",
       "8            9  dry goods pasta\n",
       "9           10             bulk\n",
       "10          11    personal care\n",
       "11          12     meat seafood\n",
       "12          13           pantry\n",
       "13          14        breakfast\n",
       "14          15     canned goods\n",
       "15          16       dairy eggs\n",
       "16          17        household\n",
       "17          18           babies\n",
       "18          19           snacks\n",
       "19          20             deli\n",
       "20          21          missing"
      ]
     },
     "execution_count": 7,
     "metadata": {},
     "output_type": "execute_result"
    }
   ],
   "source": [
    "# Check import df_dept\n",
    "\n",
    "df_dept.head(22)"
   ]
  },
  {
   "cell_type": "markdown",
   "id": "b54b5ac6",
   "metadata": {},
   "source": [
    "### 04. Create a customer profiling variable\n",
    "#### Age Profile"
   ]
  },
  {
   "cell_type": "code",
   "execution_count": 8,
   "id": "cd2251c2",
   "metadata": {},
   "outputs": [],
   "source": [
    "# Creating age profile 'Senior', age >= 65\n",
    "\n",
    "ic_data.loc[ic_data['age'] >= 65, 'age_flag' ] = 'Senior'"
   ]
  },
  {
   "cell_type": "code",
   "execution_count": 9,
   "id": "d061f6a8",
   "metadata": {},
   "outputs": [],
   "source": [
    "# Creating age profile 'Middle-age',  30 < age < 65\n",
    "\n",
    "ic_data.loc[(ic_data['age'] < 65) & (ic_data['age'] > 30), 'age_flag'] = 'Middle-age'"
   ]
  },
  {
   "cell_type": "code",
   "execution_count": 10,
   "id": "f7a46503",
   "metadata": {},
   "outputs": [],
   "source": [
    "# Creating age profile 'Young adult', age <= 30\n",
    "\n",
    "ic_data.loc[ic_data['age'] <=30, 'age_flag'] = 'Young adult'"
   ]
  },
  {
   "cell_type": "code",
   "execution_count": 11,
   "id": "559ef20a",
   "metadata": {},
   "outputs": [
    {
     "data": {
      "text/plain": [
       "Middle-age     17230416\n",
       "Senior          8575084\n",
       "Young adult     6599359\n",
       "Name: age_flag, dtype: int64"
      ]
     },
     "execution_count": 11,
     "metadata": {},
     "output_type": "execute_result"
    }
   ],
   "source": [
    "# Checking no values were excluded\n",
    "\n",
    "ic_data['age_flag'].value_counts(dropna=False)"
   ]
  },
  {
   "cell_type": "markdown",
   "id": "ac95c92d",
   "metadata": {},
   "source": [
    "#### Income profile"
   ]
  },
  {
   "cell_type": "code",
   "execution_count": 12,
   "id": "031e9886",
   "metadata": {},
   "outputs": [],
   "source": [
    "# Creating income profile for 'Normal income'\n",
    "\n",
    "ic_data.loc[ic_data['income']<=50000,'income_flag'] = 'Normal income'"
   ]
  },
  {
   "cell_type": "code",
   "execution_count": 13,
   "id": "bac2994e",
   "metadata": {},
   "outputs": [],
   "source": [
    "# Creating income profile for 'Middle income'\n",
    "\n",
    "ic_data.loc[(ic_data['income'] > 50000) & (ic_data['income'] <= 100000), 'income_flag'] = 'Middle income'"
   ]
  },
  {
   "cell_type": "code",
   "execution_count": 14,
   "id": "189310de",
   "metadata": {},
   "outputs": [],
   "source": [
    "# Creating income profile for 'High income'\n",
    "\n",
    "ic_data.loc[ic_data['income'] > 100000, 'income_flag'] = 'High income'"
   ]
  },
  {
   "cell_type": "code",
   "execution_count": 15,
   "id": "ec61264d",
   "metadata": {},
   "outputs": [
    {
     "data": {
      "text/plain": [
       "High income      14814202\n",
       "Middle income    13996574\n",
       "Normal income     3594083\n",
       "Name: income_flag, dtype: int64"
      ]
     },
     "execution_count": 15,
     "metadata": {},
     "output_type": "execute_result"
    }
   ],
   "source": [
    "# Checking no values were excluded\n",
    "\n",
    "ic_data['income_flag'].value_counts(dropna = False)"
   ]
  },
  {
   "cell_type": "markdown",
   "id": "e0fe9d0c",
   "metadata": {},
   "source": [
    "#### Department profile, adding department names to ic_data through merge"
   ]
  },
  {
   "cell_type": "code",
   "execution_count": 16,
   "id": "7e462520",
   "metadata": {},
   "outputs": [],
   "source": [
    "# Creating department profile\n",
    "\n",
    "df_dept.rename(columns={'Unnamed: 0':'department_id'},inplace=True)"
   ]
  },
  {
   "cell_type": "code",
   "execution_count": 17,
   "id": "8545898e",
   "metadata": {},
   "outputs": [
    {
     "data": {
      "text/html": [
       "<div>\n",
       "<style scoped>\n",
       "    .dataframe tbody tr th:only-of-type {\n",
       "        vertical-align: middle;\n",
       "    }\n",
       "\n",
       "    .dataframe tbody tr th {\n",
       "        vertical-align: top;\n",
       "    }\n",
       "\n",
       "    .dataframe thead th {\n",
       "        text-align: right;\n",
       "    }\n",
       "</style>\n",
       "<table border=\"1\" class=\"dataframe\">\n",
       "  <thead>\n",
       "    <tr style=\"text-align: right;\">\n",
       "      <th></th>\n",
       "      <th>department_id</th>\n",
       "      <th>department</th>\n",
       "    </tr>\n",
       "  </thead>\n",
       "  <tbody>\n",
       "    <tr>\n",
       "      <th>0</th>\n",
       "      <td>1</td>\n",
       "      <td>frozen</td>\n",
       "    </tr>\n",
       "    <tr>\n",
       "      <th>1</th>\n",
       "      <td>2</td>\n",
       "      <td>other</td>\n",
       "    </tr>\n",
       "    <tr>\n",
       "      <th>2</th>\n",
       "      <td>3</td>\n",
       "      <td>bakery</td>\n",
       "    </tr>\n",
       "    <tr>\n",
       "      <th>3</th>\n",
       "      <td>4</td>\n",
       "      <td>produce</td>\n",
       "    </tr>\n",
       "    <tr>\n",
       "      <th>4</th>\n",
       "      <td>5</td>\n",
       "      <td>alcohol</td>\n",
       "    </tr>\n",
       "    <tr>\n",
       "      <th>5</th>\n",
       "      <td>6</td>\n",
       "      <td>international</td>\n",
       "    </tr>\n",
       "    <tr>\n",
       "      <th>6</th>\n",
       "      <td>7</td>\n",
       "      <td>beverages</td>\n",
       "    </tr>\n",
       "    <tr>\n",
       "      <th>7</th>\n",
       "      <td>8</td>\n",
       "      <td>pets</td>\n",
       "    </tr>\n",
       "    <tr>\n",
       "      <th>8</th>\n",
       "      <td>9</td>\n",
       "      <td>dry goods pasta</td>\n",
       "    </tr>\n",
       "    <tr>\n",
       "      <th>9</th>\n",
       "      <td>10</td>\n",
       "      <td>bulk</td>\n",
       "    </tr>\n",
       "    <tr>\n",
       "      <th>10</th>\n",
       "      <td>11</td>\n",
       "      <td>personal care</td>\n",
       "    </tr>\n",
       "    <tr>\n",
       "      <th>11</th>\n",
       "      <td>12</td>\n",
       "      <td>meat seafood</td>\n",
       "    </tr>\n",
       "    <tr>\n",
       "      <th>12</th>\n",
       "      <td>13</td>\n",
       "      <td>pantry</td>\n",
       "    </tr>\n",
       "    <tr>\n",
       "      <th>13</th>\n",
       "      <td>14</td>\n",
       "      <td>breakfast</td>\n",
       "    </tr>\n",
       "    <tr>\n",
       "      <th>14</th>\n",
       "      <td>15</td>\n",
       "      <td>canned goods</td>\n",
       "    </tr>\n",
       "    <tr>\n",
       "      <th>15</th>\n",
       "      <td>16</td>\n",
       "      <td>dairy eggs</td>\n",
       "    </tr>\n",
       "    <tr>\n",
       "      <th>16</th>\n",
       "      <td>17</td>\n",
       "      <td>household</td>\n",
       "    </tr>\n",
       "    <tr>\n",
       "      <th>17</th>\n",
       "      <td>18</td>\n",
       "      <td>babies</td>\n",
       "    </tr>\n",
       "    <tr>\n",
       "      <th>18</th>\n",
       "      <td>19</td>\n",
       "      <td>snacks</td>\n",
       "    </tr>\n",
       "    <tr>\n",
       "      <th>19</th>\n",
       "      <td>20</td>\n",
       "      <td>deli</td>\n",
       "    </tr>\n",
       "    <tr>\n",
       "      <th>20</th>\n",
       "      <td>21</td>\n",
       "      <td>missing</td>\n",
       "    </tr>\n",
       "  </tbody>\n",
       "</table>\n",
       "</div>"
      ],
      "text/plain": [
       "    department_id       department\n",
       "0               1           frozen\n",
       "1               2            other\n",
       "2               3           bakery\n",
       "3               4          produce\n",
       "4               5          alcohol\n",
       "5               6    international\n",
       "6               7        beverages\n",
       "7               8             pets\n",
       "8               9  dry goods pasta\n",
       "9              10             bulk\n",
       "10             11    personal care\n",
       "11             12     meat seafood\n",
       "12             13           pantry\n",
       "13             14        breakfast\n",
       "14             15     canned goods\n",
       "15             16       dairy eggs\n",
       "16             17        household\n",
       "17             18           babies\n",
       "18             19           snacks\n",
       "19             20             deli\n",
       "20             21          missing"
      ]
     },
     "execution_count": 17,
     "metadata": {},
     "output_type": "execute_result"
    }
   ],
   "source": [
    "# Confirming rename\n",
    "\n",
    "df_dept.head(22)"
   ]
  },
  {
   "cell_type": "code",
   "execution_count": 18,
   "id": "2ed83da9",
   "metadata": {},
   "outputs": [],
   "source": [
    "# Merging dataframe with department dataframe\n",
    "\n",
    "df_merged = ic_data.merge(df_dept, on = 'department_id')"
   ]
  },
  {
   "cell_type": "code",
   "execution_count": 19,
   "id": "2f01efbc",
   "metadata": {},
   "outputs": [
    {
     "data": {
      "text/plain": [
       "produce            9479291\n",
       "dairy eggs         5398747\n",
       "snacks             2887550\n",
       "beverages          2688123\n",
       "frozen             2234743\n",
       "pantry             1875369\n",
       "bakery             1172428\n",
       "canned goods       1068058\n",
       "deli               1051249\n",
       "dry goods pasta     866627\n",
       "household           738666\n",
       "meat seafood        708927\n",
       "breakfast           703033\n",
       "personal care       447572\n",
       "babies              423802\n",
       "international       269253\n",
       "alcohol             153696\n",
       "pets                 97716\n",
       "missing              69145\n",
       "other                36291\n",
       "bulk                 34573\n",
       "Name: department, dtype: int64"
      ]
     },
     "execution_count": 19,
     "metadata": {},
     "output_type": "execute_result"
    }
   ],
   "source": [
    "df_merged['department'].value_counts(dropna = False)"
   ]
  },
  {
   "cell_type": "code",
   "execution_count": 20,
   "id": "3ef3c525",
   "metadata": {
    "scrolled": true
   },
   "outputs": [
    {
     "data": {
      "text/plain": [
       "Index(['order_id', 'user_id', 'order_number', 'orders_day_of_the_week',\n",
       "       'order_hour_of_day', 'days_since_prior_order', 'product_id',\n",
       "       'add_to_cart_order', 'reordered', 'product_name', 'aisle_id',\n",
       "       'department_id', 'prices', '_merge', 'price_range_loc', 'busiest_day',\n",
       "       'busiest_days', 'busiest_period_of_day', 'max_order', 'loyalty_flag',\n",
       "       'mean_price', 'spending_flag', 'median_order_days',\n",
       "       'order_frequency_flag', 'gender', 'state', 'age', 'date_joined',\n",
       "       'n_dependants', 'fam_status', 'income', 'region', 'customer_activity',\n",
       "       'age_flag', 'income_flag', 'department'],\n",
       "      dtype='object')"
      ]
     },
     "execution_count": 20,
     "metadata": {},
     "output_type": "execute_result"
    }
   ],
   "source": [
    "df_merged.columns"
   ]
  },
  {
   "cell_type": "markdown",
   "id": "83983b2d",
   "metadata": {},
   "source": [
    "#### Dependants profile"
   ]
  },
  {
   "cell_type": "code",
   "execution_count": 21,
   "id": "1584dc0b",
   "metadata": {},
   "outputs": [],
   "source": [
    "# Creating dependants profile 'Single'\n",
    "\n",
    "df_merged.loc[df_merged['n_dependants'] ==0, 'family_flag'] = 'Single'"
   ]
  },
  {
   "cell_type": "code",
   "execution_count": 22,
   "id": "2dce4bba",
   "metadata": {},
   "outputs": [],
   "source": [
    "# Creating dependants profile 'Family'\n",
    "\n",
    "df_merged.loc[df_merged['n_dependants'] !=0, 'family_flag'] = 'Family'"
   ]
  },
  {
   "cell_type": "code",
   "execution_count": 23,
   "id": "bd9bf8eb",
   "metadata": {},
   "outputs": [
    {
     "data": {
      "text/plain": [
       "Family    24307356\n",
       "Single     8097503\n",
       "Name: family_flag, dtype: int64"
      ]
     },
     "execution_count": 23,
     "metadata": {},
     "output_type": "execute_result"
    }
   ],
   "source": [
    "# Checking no values were excluded\n",
    "\n",
    "df_merged['family_flag'].value_counts(dropna=False)"
   ]
  },
  {
   "cell_type": "markdown",
   "id": "d6f580a9",
   "metadata": {},
   "source": [
    "### 05. Create and appropraite visualization to show the distribution of profiles\n",
    "\n",
    "I cleared the outputs to save memory."
   ]
  },
  {
   "cell_type": "code",
   "execution_count": 24,
   "id": "70d9409c",
   "metadata": {},
   "outputs": [
    {
     "data": {
      "image/png": "[encoded data removed]",
      "text/plain": [
       "<Figure size 640x480 with 1 Axes>"
      ]
     },
     "metadata": {},
     "output_type": "display_data"
    }
   ],
   "source": [
    "# Visualization for age profile as a pie chart\n",
    "\n",
    "age_profile_pie = ic_data['age_flag'].value_counts().plot.pie(title='Customer Age Profiles', label='', autopct=('%1.f%%'))"
   ]
  },
  {
   "cell_type": "code",
   "execution_count": 25,
   "id": "a1f7b21c",
   "metadata": {
    "scrolled": false
   },
   "outputs": [
    {
     "data": {
      "text/plain": [
       "Text(0.5, 1.0, 'Customer Age Profiles')"
      ]
     },
     "execution_count": 25,
     "metadata": {},
     "output_type": "execute_result"
    },
    {
     "data": {
      "image/png": "[encoded data removed]",
      "text/plain": [
       "<Figure size 640x480 with 1 Axes>"
      ]
     },
     "metadata": {},
     "output_type": "display_data"
    }
   ],
   "source": [
    "# Visualization for age profile as a bar chart\n",
    "\n",
    "age_profile_bar = ic_data['age_flag'].value_counts().plot.bar(color=sns.color_palette('GnBu_r', 3))\n",
    "plt.title('Customer Age Profiles')"
   ]
  },
  {
   "cell_type": "code",
   "execution_count": 26,
   "id": "d5c5a341",
   "metadata": {},
   "outputs": [
    {
     "data": {
      "image/png": "[encoded data removed]",
      "text/plain": [
       "<Figure size 640x480 with 1 Axes>"
      ]
     },
     "metadata": {},
     "output_type": "display_data"
    }
   ],
   "source": [
    "# Visualization for departments profile as bar chart\n",
    "\n",
    "departments_profile_bar = df_merged['department'].value_counts().plot.bar(title = 'Departments Profile')"
   ]
  },
  {
   "cell_type": "code",
   "execution_count": 27,
   "id": "863ab9ac",
   "metadata": {},
   "outputs": [
    {
     "data": {
      "image/png": "[encoded data removed]",
      "text/plain": [
       "<Figure size 640x480 with 1 Axes>"
      ]
     },
     "metadata": {},
     "output_type": "display_data"
    }
   ],
   "source": [
    "# Visualization for dependants profile as a pie chart \n",
    "dependants_profile_pie =df_merged['family_flag'].value_counts().plot.pie(title='Family Profile',label='',autopct=('%1.f%%'))"
   ]
  },
  {
   "cell_type": "markdown",
   "id": "5e59c11e",
   "metadata": {},
   "source": [
    "### 06. Aggregate the max, mean, and min variables on a customer-profile level for usage frequency and expenditure."
   ]
  },
  {
   "cell_type": "markdown",
   "id": "12344b1e",
   "metadata": {},
   "source": [
    "#### Age"
   ]
  },
  {
   "cell_type": "code",
   "execution_count": 28,
   "id": "e3850fd8",
   "metadata": {},
   "outputs": [],
   "source": [
    "# Age aggregation based on 'days_since_prior_order' and 'prices'\n",
    "\n",
    "age_stats = df_merged.groupby('age_flag').agg({'days_since_prior_order':['min', 'max', 'mean'], 'prices':['min', 'max', 'mean']})"
   ]
  },
  {
   "cell_type": "code",
   "execution_count": 29,
   "id": "c83055cd",
   "metadata": {
    "scrolled": true
   },
   "outputs": [
    {
     "data": {
      "text/html": [
       "<div>\n",
       "<style scoped>\n",
       "    .dataframe tbody tr th:only-of-type {\n",
       "        vertical-align: middle;\n",
       "    }\n",
       "\n",
       "    .dataframe tbody tr th {\n",
       "        vertical-align: top;\n",
       "    }\n",
       "\n",
       "    .dataframe thead tr th {\n",
       "        text-align: left;\n",
       "    }\n",
       "\n",
       "    .dataframe thead tr:last-of-type th {\n",
       "        text-align: right;\n",
       "    }\n",
       "</style>\n",
       "<table border=\"1\" class=\"dataframe\">\n",
       "  <thead>\n",
       "    <tr>\n",
       "      <th></th>\n",
       "      <th colspan=\"3\" halign=\"left\">days_since_prior_order</th>\n",
       "      <th colspan=\"3\" halign=\"left\">prices</th>\n",
       "    </tr>\n",
       "    <tr>\n",
       "      <th></th>\n",
       "      <th>min</th>\n",
       "      <th>max</th>\n",
       "      <th>mean</th>\n",
       "      <th>min</th>\n",
       "      <th>max</th>\n",
       "      <th>mean</th>\n",
       "    </tr>\n",
       "    <tr>\n",
       "      <th>age_flag</th>\n",
       "      <th></th>\n",
       "      <th></th>\n",
       "      <th></th>\n",
       "      <th></th>\n",
       "      <th></th>\n",
       "      <th></th>\n",
       "    </tr>\n",
       "  </thead>\n",
       "  <tbody>\n",
       "    <tr>\n",
       "      <th>Middle-age</th>\n",
       "      <td>0.0</td>\n",
       "      <td>30.0</td>\n",
       "      <td>11.104948</td>\n",
       "      <td>1.0</td>\n",
       "      <td>25.0</td>\n",
       "      <td>7.791527</td>\n",
       "    </tr>\n",
       "    <tr>\n",
       "      <th>Senior</th>\n",
       "      <td>0.0</td>\n",
       "      <td>30.0</td>\n",
       "      <td>11.078641</td>\n",
       "      <td>1.0</td>\n",
       "      <td>25.0</td>\n",
       "      <td>7.796546</td>\n",
       "    </tr>\n",
       "    <tr>\n",
       "      <th>Young adult</th>\n",
       "      <td>0.0</td>\n",
       "      <td>30.0</td>\n",
       "      <td>11.134870</td>\n",
       "      <td>1.0</td>\n",
       "      <td>25.0</td>\n",
       "      <td>7.782389</td>\n",
       "    </tr>\n",
       "  </tbody>\n",
       "</table>\n",
       "</div>"
      ],
      "text/plain": [
       "            days_since_prior_order                  prices                \n",
       "                               min   max       mean    min   max      mean\n",
       "age_flag                                                                  \n",
       "Middle-age                     0.0  30.0  11.104948    1.0  25.0  7.791527\n",
       "Senior                         0.0  30.0  11.078641    1.0  25.0  7.796546\n",
       "Young adult                    0.0  30.0  11.134870    1.0  25.0  7.782389"
      ]
     },
     "execution_count": 29,
     "metadata": {},
     "output_type": "execute_result"
    }
   ],
   "source": [
    "age_stats"
   ]
  },
  {
   "cell_type": "markdown",
   "id": "741d4825",
   "metadata": {},
   "source": [
    "#### Income"
   ]
  },
  {
   "cell_type": "code",
   "execution_count": 30,
   "id": "1fcbc431",
   "metadata": {},
   "outputs": [],
   "source": [
    "# Income aggregation based on 'days_since_prior_order' and 'prices'\n",
    "\n",
    "income_stats = df_merged.groupby(['income_flag']).agg({'days_since_prior_order':['min','max','mean'],'prices':['min','max','mean']})"
   ]
  },
  {
   "cell_type": "code",
   "execution_count": 31,
   "id": "895355aa",
   "metadata": {},
   "outputs": [
    {
     "data": {
      "text/html": [
       "<div>\n",
       "<style scoped>\n",
       "    .dataframe tbody tr th:only-of-type {\n",
       "        vertical-align: middle;\n",
       "    }\n",
       "\n",
       "    .dataframe tbody tr th {\n",
       "        vertical-align: top;\n",
       "    }\n",
       "\n",
       "    .dataframe thead tr th {\n",
       "        text-align: left;\n",
       "    }\n",
       "\n",
       "    .dataframe thead tr:last-of-type th {\n",
       "        text-align: right;\n",
       "    }\n",
       "</style>\n",
       "<table border=\"1\" class=\"dataframe\">\n",
       "  <thead>\n",
       "    <tr>\n",
       "      <th></th>\n",
       "      <th colspan=\"3\" halign=\"left\">days_since_prior_order</th>\n",
       "      <th colspan=\"3\" halign=\"left\">prices</th>\n",
       "    </tr>\n",
       "    <tr>\n",
       "      <th></th>\n",
       "      <th>min</th>\n",
       "      <th>max</th>\n",
       "      <th>mean</th>\n",
       "      <th>min</th>\n",
       "      <th>max</th>\n",
       "      <th>mean</th>\n",
       "    </tr>\n",
       "    <tr>\n",
       "      <th>income_flag</th>\n",
       "      <th></th>\n",
       "      <th></th>\n",
       "      <th></th>\n",
       "      <th></th>\n",
       "      <th></th>\n",
       "      <th></th>\n",
       "    </tr>\n",
       "  </thead>\n",
       "  <tbody>\n",
       "    <tr>\n",
       "      <th>High income</th>\n",
       "      <td>0.0</td>\n",
       "      <td>30.0</td>\n",
       "      <td>11.039865</td>\n",
       "      <td>1.0</td>\n",
       "      <td>25.0</td>\n",
       "      <td>7.959257</td>\n",
       "    </tr>\n",
       "    <tr>\n",
       "      <th>Middle income</th>\n",
       "      <td>0.0</td>\n",
       "      <td>30.0</td>\n",
       "      <td>11.049312</td>\n",
       "      <td>1.0</td>\n",
       "      <td>25.0</td>\n",
       "      <td>7.893885</td>\n",
       "    </tr>\n",
       "    <tr>\n",
       "      <th>Normal income</th>\n",
       "      <td>0.0</td>\n",
       "      <td>30.0</td>\n",
       "      <td>11.587220</td>\n",
       "      <td>1.0</td>\n",
       "      <td>25.0</td>\n",
       "      <td>6.696985</td>\n",
       "    </tr>\n",
       "  </tbody>\n",
       "</table>\n",
       "</div>"
      ],
      "text/plain": [
       "              days_since_prior_order                  prices                \n",
       "                                 min   max       mean    min   max      mean\n",
       "income_flag                                                                 \n",
       "High income                      0.0  30.0  11.039865    1.0  25.0  7.959257\n",
       "Middle income                    0.0  30.0  11.049312    1.0  25.0  7.893885\n",
       "Normal income                    0.0  30.0  11.587220    1.0  25.0  6.696985"
      ]
     },
     "execution_count": 31,
     "metadata": {},
     "output_type": "execute_result"
    }
   ],
   "source": [
    "income_stats"
   ]
  },
  {
   "cell_type": "markdown",
   "id": "aef1d8e1",
   "metadata": {},
   "source": [
    "#### Department (goods)"
   ]
  },
  {
   "cell_type": "code",
   "execution_count": 32,
   "id": "90c7e659",
   "metadata": {},
   "outputs": [],
   "source": [
    "# Department aggregation based on 'days_since_prior_order' and 'prices'\n",
    "\n",
    "department_stats = df_merged.groupby(['department']).agg({'days_since_prior_order':['min','max','mean'],'prices':['min','max','mean']})"
   ]
  },
  {
   "cell_type": "code",
   "execution_count": 33,
   "id": "802787f8",
   "metadata": {},
   "outputs": [
    {
     "data": {
      "text/html": [
       "<div>\n",
       "<style scoped>\n",
       "    .dataframe tbody tr th:only-of-type {\n",
       "        vertical-align: middle;\n",
       "    }\n",
       "\n",
       "    .dataframe tbody tr th {\n",
       "        vertical-align: top;\n",
       "    }\n",
       "\n",
       "    .dataframe thead tr th {\n",
       "        text-align: left;\n",
       "    }\n",
       "\n",
       "    .dataframe thead tr:last-of-type th {\n",
       "        text-align: right;\n",
       "    }\n",
       "</style>\n",
       "<table border=\"1\" class=\"dataframe\">\n",
       "  <thead>\n",
       "    <tr>\n",
       "      <th></th>\n",
       "      <th colspan=\"3\" halign=\"left\">days_since_prior_order</th>\n",
       "      <th colspan=\"3\" halign=\"left\">prices</th>\n",
       "    </tr>\n",
       "    <tr>\n",
       "      <th></th>\n",
       "      <th>min</th>\n",
       "      <th>max</th>\n",
       "      <th>mean</th>\n",
       "      <th>min</th>\n",
       "      <th>max</th>\n",
       "      <th>mean</th>\n",
       "    </tr>\n",
       "    <tr>\n",
       "      <th>department</th>\n",
       "      <th></th>\n",
       "      <th></th>\n",
       "      <th></th>\n",
       "      <th></th>\n",
       "      <th></th>\n",
       "      <th></th>\n",
       "    </tr>\n",
       "  </thead>\n",
       "  <tbody>\n",
       "    <tr>\n",
       "      <th>alcohol</th>\n",
       "      <td>0.0</td>\n",
       "      <td>30.0</td>\n",
       "      <td>10.340887</td>\n",
       "      <td>1.0</td>\n",
       "      <td>15.0</td>\n",
       "      <td>8.143701</td>\n",
       "    </tr>\n",
       "    <tr>\n",
       "      <th>babies</th>\n",
       "      <td>0.0</td>\n",
       "      <td>30.0</td>\n",
       "      <td>10.004465</td>\n",
       "      <td>1.0</td>\n",
       "      <td>15.0</td>\n",
       "      <td>7.638380</td>\n",
       "    </tr>\n",
       "    <tr>\n",
       "      <th>bakery</th>\n",
       "      <td>0.0</td>\n",
       "      <td>30.0</td>\n",
       "      <td>11.097613</td>\n",
       "      <td>1.0</td>\n",
       "      <td>15.0</td>\n",
       "      <td>7.853809</td>\n",
       "    </tr>\n",
       "    <tr>\n",
       "      <th>beverages</th>\n",
       "      <td>0.0</td>\n",
       "      <td>30.0</td>\n",
       "      <td>11.053389</td>\n",
       "      <td>1.0</td>\n",
       "      <td>15.0</td>\n",
       "      <td>7.680502</td>\n",
       "    </tr>\n",
       "    <tr>\n",
       "      <th>breakfast</th>\n",
       "      <td>0.0</td>\n",
       "      <td>30.0</td>\n",
       "      <td>11.296101</td>\n",
       "      <td>1.0</td>\n",
       "      <td>14.9</td>\n",
       "      <td>8.028963</td>\n",
       "    </tr>\n",
       "    <tr>\n",
       "      <th>bulk</th>\n",
       "      <td>0.0</td>\n",
       "      <td>30.0</td>\n",
       "      <td>10.104230</td>\n",
       "      <td>1.4</td>\n",
       "      <td>14.1</td>\n",
       "      <td>8.348960</td>\n",
       "    </tr>\n",
       "    <tr>\n",
       "      <th>canned goods</th>\n",
       "      <td>0.0</td>\n",
       "      <td>30.0</td>\n",
       "      <td>11.656079</td>\n",
       "      <td>1.0</td>\n",
       "      <td>15.0</td>\n",
       "      <td>7.539976</td>\n",
       "    </tr>\n",
       "    <tr>\n",
       "      <th>dairy eggs</th>\n",
       "      <td>0.0</td>\n",
       "      <td>30.0</td>\n",
       "      <td>10.986054</td>\n",
       "      <td>1.0</td>\n",
       "      <td>15.0</td>\n",
       "      <td>8.335056</td>\n",
       "    </tr>\n",
       "    <tr>\n",
       "      <th>deli</th>\n",
       "      <td>0.0</td>\n",
       "      <td>30.0</td>\n",
       "      <td>11.345655</td>\n",
       "      <td>1.0</td>\n",
       "      <td>15.0</td>\n",
       "      <td>7.778701</td>\n",
       "    </tr>\n",
       "    <tr>\n",
       "      <th>dry goods pasta</th>\n",
       "      <td>0.0</td>\n",
       "      <td>30.0</td>\n",
       "      <td>11.774450</td>\n",
       "      <td>1.0</td>\n",
       "      <td>15.0</td>\n",
       "      <td>7.350283</td>\n",
       "    </tr>\n",
       "    <tr>\n",
       "      <th>frozen</th>\n",
       "      <td>0.0</td>\n",
       "      <td>30.0</td>\n",
       "      <td>11.730829</td>\n",
       "      <td>1.0</td>\n",
       "      <td>15.0</td>\n",
       "      <td>7.736553</td>\n",
       "    </tr>\n",
       "    <tr>\n",
       "      <th>household</th>\n",
       "      <td>0.0</td>\n",
       "      <td>30.0</td>\n",
       "      <td>11.996490</td>\n",
       "      <td>1.0</td>\n",
       "      <td>15.0</td>\n",
       "      <td>7.384058</td>\n",
       "    </tr>\n",
       "    <tr>\n",
       "      <th>international</th>\n",
       "      <td>0.0</td>\n",
       "      <td>30.0</td>\n",
       "      <td>11.291251</td>\n",
       "      <td>1.0</td>\n",
       "      <td>15.0</td>\n",
       "      <td>7.682264</td>\n",
       "    </tr>\n",
       "    <tr>\n",
       "      <th>meat seafood</th>\n",
       "      <td>0.0</td>\n",
       "      <td>30.0</td>\n",
       "      <td>11.432021</td>\n",
       "      <td>8.0</td>\n",
       "      <td>25.0</td>\n",
       "      <td>16.294443</td>\n",
       "    </tr>\n",
       "    <tr>\n",
       "      <th>missing</th>\n",
       "      <td>0.0</td>\n",
       "      <td>30.0</td>\n",
       "      <td>10.218559</td>\n",
       "      <td>1.0</td>\n",
       "      <td>15.0</td>\n",
       "      <td>8.660716</td>\n",
       "    </tr>\n",
       "    <tr>\n",
       "      <th>other</th>\n",
       "      <td>0.0</td>\n",
       "      <td>30.0</td>\n",
       "      <td>10.952867</td>\n",
       "      <td>1.1</td>\n",
       "      <td>15.0</td>\n",
       "      <td>6.990934</td>\n",
       "    </tr>\n",
       "    <tr>\n",
       "      <th>pantry</th>\n",
       "      <td>0.0</td>\n",
       "      <td>30.0</td>\n",
       "      <td>11.163256</td>\n",
       "      <td>1.0</td>\n",
       "      <td>20.0</td>\n",
       "      <td>8.009443</td>\n",
       "    </tr>\n",
       "    <tr>\n",
       "      <th>personal care</th>\n",
       "      <td>0.0</td>\n",
       "      <td>30.0</td>\n",
       "      <td>11.593145</td>\n",
       "      <td>1.0</td>\n",
       "      <td>15.0</td>\n",
       "      <td>7.996769</td>\n",
       "    </tr>\n",
       "    <tr>\n",
       "      <th>pets</th>\n",
       "      <td>0.0</td>\n",
       "      <td>30.0</td>\n",
       "      <td>11.867322</td>\n",
       "      <td>1.0</td>\n",
       "      <td>15.0</td>\n",
       "      <td>7.889070</td>\n",
       "    </tr>\n",
       "    <tr>\n",
       "      <th>produce</th>\n",
       "      <td>0.0</td>\n",
       "      <td>30.0</td>\n",
       "      <td>10.856212</td>\n",
       "      <td>1.0</td>\n",
       "      <td>15.0</td>\n",
       "      <td>7.981708</td>\n",
       "    </tr>\n",
       "    <tr>\n",
       "      <th>snacks</th>\n",
       "      <td>0.0</td>\n",
       "      <td>30.0</td>\n",
       "      <td>10.947879</td>\n",
       "      <td>1.6</td>\n",
       "      <td>7.0</td>\n",
       "      <td>4.275437</td>\n",
       "    </tr>\n",
       "  </tbody>\n",
       "</table>\n",
       "</div>"
      ],
      "text/plain": [
       "                days_since_prior_order                  prices        \\\n",
       "                                   min   max       mean    min   max   \n",
       "department                                                             \n",
       "alcohol                            0.0  30.0  10.340887    1.0  15.0   \n",
       "babies                             0.0  30.0  10.004465    1.0  15.0   \n",
       "bakery                             0.0  30.0  11.097613    1.0  15.0   \n",
       "beverages                          0.0  30.0  11.053389    1.0  15.0   \n",
       "breakfast                          0.0  30.0  11.296101    1.0  14.9   \n",
       "bulk                               0.0  30.0  10.104230    1.4  14.1   \n",
       "canned goods                       0.0  30.0  11.656079    1.0  15.0   \n",
       "dairy eggs                         0.0  30.0  10.986054    1.0  15.0   \n",
       "deli                               0.0  30.0  11.345655    1.0  15.0   \n",
       "dry goods pasta                    0.0  30.0  11.774450    1.0  15.0   \n",
       "frozen                             0.0  30.0  11.730829    1.0  15.0   \n",
       "household                          0.0  30.0  11.996490    1.0  15.0   \n",
       "international                      0.0  30.0  11.291251    1.0  15.0   \n",
       "meat seafood                       0.0  30.0  11.432021    8.0  25.0   \n",
       "missing                            0.0  30.0  10.218559    1.0  15.0   \n",
       "other                              0.0  30.0  10.952867    1.1  15.0   \n",
       "pantry                             0.0  30.0  11.163256    1.0  20.0   \n",
       "personal care                      0.0  30.0  11.593145    1.0  15.0   \n",
       "pets                               0.0  30.0  11.867322    1.0  15.0   \n",
       "produce                            0.0  30.0  10.856212    1.0  15.0   \n",
       "snacks                             0.0  30.0  10.947879    1.6   7.0   \n",
       "\n",
       "                            \n",
       "                      mean  \n",
       "department                  \n",
       "alcohol           8.143701  \n",
       "babies            7.638380  \n",
       "bakery            7.853809  \n",
       "beverages         7.680502  \n",
       "breakfast         8.028963  \n",
       "bulk              8.348960  \n",
       "canned goods      7.539976  \n",
       "dairy eggs        8.335056  \n",
       "deli              7.778701  \n",
       "dry goods pasta   7.350283  \n",
       "frozen            7.736553  \n",
       "household         7.384058  \n",
       "international     7.682264  \n",
       "meat seafood     16.294443  \n",
       "missing           8.660716  \n",
       "other             6.990934  \n",
       "pantry            8.009443  \n",
       "personal care     7.996769  \n",
       "pets              7.889070  \n",
       "produce           7.981708  \n",
       "snacks            4.275437  "
      ]
     },
     "execution_count": 33,
     "metadata": {},
     "output_type": "execute_result"
    }
   ],
   "source": [
    "department_stats"
   ]
  },
  {
   "cell_type": "markdown",
   "id": "38a52172",
   "metadata": {},
   "source": [
    "#### Family status"
   ]
  },
  {
   "cell_type": "code",
   "execution_count": 34,
   "id": "02e5343a",
   "metadata": {},
   "outputs": [],
   "source": [
    "# Family status aggregation based on 'days_since_prior_order' and 'prices'\n",
    "\n",
    "family_status_stats = df_merged.groupby(['family_flag']).agg({'days_since_prior_order':['min','max','mean'],'prices':['min','max','mean']})"
   ]
  },
  {
   "cell_type": "code",
   "execution_count": 35,
   "id": "b6b36483",
   "metadata": {},
   "outputs": [
    {
     "data": {
      "text/html": [
       "<div>\n",
       "<style scoped>\n",
       "    .dataframe tbody tr th:only-of-type {\n",
       "        vertical-align: middle;\n",
       "    }\n",
       "\n",
       "    .dataframe tbody tr th {\n",
       "        vertical-align: top;\n",
       "    }\n",
       "\n",
       "    .dataframe thead tr th {\n",
       "        text-align: left;\n",
       "    }\n",
       "\n",
       "    .dataframe thead tr:last-of-type th {\n",
       "        text-align: right;\n",
       "    }\n",
       "</style>\n",
       "<table border=\"1\" class=\"dataframe\">\n",
       "  <thead>\n",
       "    <tr>\n",
       "      <th></th>\n",
       "      <th colspan=\"3\" halign=\"left\">days_since_prior_order</th>\n",
       "      <th colspan=\"3\" halign=\"left\">prices</th>\n",
       "    </tr>\n",
       "    <tr>\n",
       "      <th></th>\n",
       "      <th>min</th>\n",
       "      <th>max</th>\n",
       "      <th>mean</th>\n",
       "      <th>min</th>\n",
       "      <th>max</th>\n",
       "      <th>mean</th>\n",
       "    </tr>\n",
       "    <tr>\n",
       "      <th>family_flag</th>\n",
       "      <th></th>\n",
       "      <th></th>\n",
       "      <th></th>\n",
       "      <th></th>\n",
       "      <th></th>\n",
       "      <th></th>\n",
       "    </tr>\n",
       "  </thead>\n",
       "  <tbody>\n",
       "    <tr>\n",
       "      <th>Family</th>\n",
       "      <td>0.0</td>\n",
       "      <td>30.0</td>\n",
       "      <td>11.111834</td>\n",
       "      <td>1.0</td>\n",
       "      <td>25.0</td>\n",
       "      <td>7.791334</td>\n",
       "    </tr>\n",
       "    <tr>\n",
       "      <th>Single</th>\n",
       "      <td>0.0</td>\n",
       "      <td>30.0</td>\n",
       "      <td>11.080805</td>\n",
       "      <td>1.0</td>\n",
       "      <td>25.0</td>\n",
       "      <td>7.789975</td>\n",
       "    </tr>\n",
       "  </tbody>\n",
       "</table>\n",
       "</div>"
      ],
      "text/plain": [
       "            days_since_prior_order                  prices                \n",
       "                               min   max       mean    min   max      mean\n",
       "family_flag                                                               \n",
       "Family                         0.0  30.0  11.111834    1.0  25.0  7.791334\n",
       "Single                         0.0  30.0  11.080805    1.0  25.0  7.789975"
      ]
     },
     "execution_count": 35,
     "metadata": {},
     "output_type": "execute_result"
    }
   ],
   "source": [
    "family_status_stats"
   ]
  },
  {
   "cell_type": "markdown",
   "id": "0e163e3b",
   "metadata": {},
   "source": [
    "### 07. Compare your customer profiles with regions and departments."
   ]
  },
  {
   "cell_type": "code",
   "execution_count": 36,
   "id": "a84d0f84",
   "metadata": {},
   "outputs": [],
   "source": [
    "# Creating a crosstab between age and region\n",
    "\n",
    "age_region = pd.crosstab(ic_data['region'], ic_data['age_flag'], dropna=False)"
   ]
  },
  {
   "cell_type": "code",
   "execution_count": 37,
   "id": "5c45804a",
   "metadata": {
    "scrolled": true
   },
   "outputs": [
    {
     "data": {
      "image/png": "[encoded data removed]",
      "text/plain": [
       "<Figure size 640x480 with 1 Axes>"
      ]
     },
     "metadata": {},
     "output_type": "display_data"
    }
   ],
   "source": [
    "# Creating a bar chart between age and region\n",
    "\n",
    "age_region_bar = age_region.plot.bar(color=sns.color_palette('GnBu_r', 3))\n",
    "plt.title('Profile: Age and Region')\n",
    "plt.legend(title = 'Age Classification')\n",
    "plt.xlabel('Region')\n",
    "plt.show()"
   ]
  },
  {
   "cell_type": "code",
   "execution_count": 38,
   "id": "d003d6d5",
   "metadata": {},
   "outputs": [],
   "source": [
    "# Creating a crosstab between 'age' and 'department'\n",
    "\n",
    "age_dept = pd.crosstab(df_merged['department'], df_merged['age_flag'], dropna=False)"
   ]
  },
  {
   "cell_type": "code",
   "execution_count": 39,
   "id": "f87dcfa8",
   "metadata": {},
   "outputs": [
    {
     "data": {
      "image/png": "[encoded data removed]",
      "text/plain": [
       "<Figure size 640x480 with 1 Axes>"
      ]
     },
     "metadata": {},
     "output_type": "display_data"
    }
   ],
   "source": [
    "# Creating a stacked bar chart between 'age' and 'department'\n",
    "age_dept_sbar =age_dept.plot.barh(stacked=True, color=sns.color_palette('GnBu_r',3))\n",
    "plt.title('Profile: Age and Departments')\n",
    "plt.legend(title = 'Age Classification')\n",
    "plt.ylabel('Department')\n",
    "plt.show()"
   ]
  },
  {
   "cell_type": "code",
   "execution_count": 40,
   "id": "19dee1f4",
   "metadata": {},
   "outputs": [],
   "source": [
    "# Creating a crosstab between 'income' and 'region'\n",
    "\n",
    "income_region = pd.crosstab(df_merged['region'], df_merged['income_flag'], dropna=False)"
   ]
  },
  {
   "cell_type": "code",
   "execution_count": 41,
   "id": "1366fc75",
   "metadata": {
    "scrolled": true
   },
   "outputs": [
    {
     "data": {
      "image/png": "[encoded data removed]",
      "text/plain": [
       "<Figure size 640x480 with 1 Axes>"
      ]
     },
     "metadata": {},
     "output_type": "display_data"
    }
   ],
   "source": [
    "# Creating a bar chart between 'income' and 'region'\n",
    "income_region_bar =income_region.plot.bar(color=sns.color_palette('GnBu_r',3))\n",
    "plt.title('Profile: Region and Income')\n",
    "plt.legend(title = 'Income Classification')\n",
    "plt.xlabel('Region')\n",
    "plt.show()\n"
   ]
  },
  {
   "cell_type": "code",
   "execution_count": 42,
   "id": "0a4a4934",
   "metadata": {},
   "outputs": [],
   "source": [
    "# Creating a crosstab between 'income' and 'department'\n",
    "\n",
    "income_dept= pd.crosstab(df_merged['department'], df_merged['income_flag'], dropna=False)"
   ]
  },
  {
   "cell_type": "code",
   "execution_count": 43,
   "id": "441215f5",
   "metadata": {},
   "outputs": [
    {
     "data": {
      "image/png": "[encoded data removed]",
      "text/plain": [
       "<Figure size 640x480 with 1 Axes>"
      ]
     },
     "metadata": {},
     "output_type": "display_data"
    }
   ],
   "source": [
    "# Creating a stacked bar chart between 'income' and 'department'\n",
    "income_dept_sbar = income_dept.plot.barh(stacked=True, color=sns.color_palette('GnBu',3))\n",
    "plt.title('Profile: Income and Departments')\n",
    "plt.legend(title = 'Income Classification')\n",
    "plt.ylabel('Department')\n",
    "plt.show()"
   ]
  },
  {
   "cell_type": "code",
   "execution_count": 44,
   "id": "d9ff0258",
   "metadata": {},
   "outputs": [],
   "source": [
    "# Creating a crosstab between 'dependants' and 'region'\n",
    "\n",
    "dependants_region = pd.crosstab(df_merged['region'], df_merged['family_flag'], dropna=False)"
   ]
  },
  {
   "cell_type": "code",
   "execution_count": 45,
   "id": "ba712ad1",
   "metadata": {},
   "outputs": [
    {
     "data": {
      "image/png": "[encoded data removed]",
      "text/plain": [
       "<Figure size 640x480 with 1 Axes>"
      ]
     },
     "metadata": {},
     "output_type": "display_data"
    }
   ],
   "source": [
    "# Creating a bar chart between 'dependants' and 'region'\n",
    "dependants_region_bar = dependants_region.plot.bar(color=sns.color_palette('GnBu_r',3))\n",
    "plt.title('Profile: Region and Dependants')\n",
    "plt.legend(title = 'Family Status')\n",
    "plt.xlabel('Region')\n",
    "plt.show()"
   ]
  },
  {
   "cell_type": "code",
   "execution_count": 46,
   "id": "069f18cb",
   "metadata": {},
   "outputs": [],
   "source": [
    "# Creating a crosstab between 'dependants' and 'departments'\n",
    "family_dept = pd.crosstab(df_merged['department'], df_merged['family_flag'], dropna=False)"
   ]
  },
  {
   "cell_type": "code",
   "execution_count": 47,
   "id": "90524b3b",
   "metadata": {},
   "outputs": [
    {
     "data": {
      "image/png": "[encoded data removed]",
      "text/plain": [
       "<Figure size 640x480 with 1 Axes>"
      ]
     },
     "metadata": {},
     "output_type": "display_data"
    }
   ],
   "source": [
    "# Creating a stacked bar chart between 'dependants' and 'department'\n",
    "family_dept_sbar = family_dept.plot.barh(stacked=True, color=sns.color_palette('GnBu_r',3))\n",
    "plt.title('Profile: Departments and Dependants')\n",
    "plt.legend(title = 'Family Status')\n",
    "plt.ylabel('Department')\n",
    "plt.show()"
   ]
  },
  {
   "cell_type": "markdown",
   "id": "542d1cc5",
   "metadata": {},
   "source": [
    "### 08. Export Visuals"
   ]
  },
  {
   "cell_type": "code",
   "execution_count": null,
   "id": "ebc9e215",
   "metadata": {},
   "outputs": [],
   "source": [
    "# Exporting Visuals 'age_profile_pie'\n",
    "age_profile_pie.figure.savefig(os.path.join(path,'04 Analysis', 'Visualizations', 'age_profile_pie.png'))"
   ]
  },
  {
   "cell_type": "code",
   "execution_count": 109,
   "id": "39aa6d7c",
   "metadata": {},
   "outputs": [],
   "source": [
    "# Exporting Visuals 'age_profile_bar'\n",
    "age_profile_bar.figure.savefig(os.path.join(path,'04 Analysis', 'Visualizations', 'age_profile_bar.png'))"
   ]
  },
  {
   "cell_type": "code",
   "execution_count": 37,
   "id": "f0e7ef66",
   "metadata": {},
   "outputs": [],
   "source": [
    "# Exporting Visuals 'departments_profile_bar'\n",
    "departments_profile_bar.figure.savefig(os.path.join(path,'04 Analysis', 'Visualizations', 'departments_profile_bar.png'))"
   ]
  },
  {
   "cell_type": "code",
   "execution_count": 50,
   "id": "3999f936",
   "metadata": {},
   "outputs": [],
   "source": [
    "# Exporting Visuals 'departments_profile_bar'\n",
    "dependants_profile_pie.figure.savefig(os.path.join(path,'04 Analysis', 'Visualizations', 'dependants_profile_pie.png'))"
   ]
  },
  {
   "cell_type": "code",
   "execution_count": 103,
   "id": "529ebc64",
   "metadata": {},
   "outputs": [],
   "source": [
    "# Exporting Visuals (age_region_bar)\n",
    "age_region_bar.figure.savefig(os.path.join(path,'04 Analysis', 'Visualizations', 'age_region_bar.png'))"
   ]
  },
  {
   "cell_type": "code",
   "execution_count": 105,
   "id": "d591cc33",
   "metadata": {},
   "outputs": [],
   "source": [
    "# Exporting Visuals (age_dept_sbar)\n",
    "age_dept_sbar.figure.savefig(os.path.join(path,'04 Analysis', 'Visualizations', 'age_dept_sbar.png'))"
   ]
  },
  {
   "cell_type": "code",
   "execution_count": 112,
   "id": "141a2503",
   "metadata": {},
   "outputs": [],
   "source": [
    "# Exporting Visuals (income_region_bar)\n",
    "income_region_bar.figure.savefig(os.path.join(path,'04 Analysis', 'Visualizations', 'income_region_bar.png'))"
   ]
  },
  {
   "cell_type": "code",
   "execution_count": 116,
   "id": "99405ef9",
   "metadata": {},
   "outputs": [],
   "source": [
    "# Exporting Visuals (inceome_dept_sbar)\n",
    "income_dept_sbar.figure.savefig(os.path.join(path,'04 Analysis', 'Visualizations', 'income_dept_bar.png'))"
   ]
  },
  {
   "cell_type": "code",
   "execution_count": 119,
   "id": "5149ac9d",
   "metadata": {},
   "outputs": [],
   "source": [
    "# Exporting Visuals (dependants_region_bar)\n",
    "dependants_region_bar.figure.savefig(os.path.join(path,'04 Analysis', 'Visualizations', 'dependants_region_bar.png'))"
   ]
  },
  {
   "cell_type": "code",
   "execution_count": 127,
   "id": "37712b85",
   "metadata": {},
   "outputs": [],
   "source": [
    "# Exporting Visuals (family_dept_sbar)\n",
    "family_dept_sbar.figure.savefig(os.path.join(path,'04 Analysis', 'Visualizations', 'family_dept_sbar.png'))"
   ]
  },
  {
   "cell_type": "markdown",
   "id": "acf74c77",
   "metadata": {},
   "source": [
    "### 09. Export Data"
   ]
  },
  {
   "cell_type": "code",
   "execution_count": 128,
   "id": "dcf6d0bf",
   "metadata": {},
   "outputs": [],
   "source": [
    "# Export final dataframe!\n",
    "\n",
    "df_merged.to_pickle(os.path.join(path, '02 Data', 'Prepared Data', 'ic_final.pkl'))"
   ]
  }
 ],
 "metadata": {
  "kernelspec": {
   "display_name": "Python 3 (ipykernel)",
   "language": "python",
   "name": "python3"
  },
  "language_info": {
   "codemirror_mode": {
    "name": "ipython",
    "version": 3
   },
   "file_extension": ".py",
   "mimetype": "text/x-python",
   "name": "python",
   "nbconvert_exporter": "python",
   "pygments_lexer": "ipython3",
   "version": "3.10.9"
  }
 },
 "nbformat": 4,
 "nbformat_minor": 5
}
