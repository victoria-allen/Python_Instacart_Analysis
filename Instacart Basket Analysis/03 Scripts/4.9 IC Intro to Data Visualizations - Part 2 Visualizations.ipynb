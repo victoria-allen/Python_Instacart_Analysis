{
 "cells": [
  {
   "cell_type": "markdown",
   "id": "52f88c59",
   "metadata": {},
   "source": [
    "## 4.9 Exercise Part 2\n",
    "### This script will include\n",
    "#### 00. Importing Libraries and Data\n",
    "#### 01. Create a bar chart\n",
    "#### 02. Create a histogram\n",
    "#### 03. Create a scatterplot\n",
    "#### 04. Create a line chart using a sample subset\n",
    "#### 05. Exercise Task\n",
    "Step 3. Create a histogram of the “order_hour_of_day” column.\n",
    "\n",
    "Step 4. Create a bar chart from the “loyalty_flag” column.\n",
    "\n",
    "Step 5. Check whether there’s a difference in expenditure (the “prices” column) depending on the hour of the day. \n",
    "\n",
    "Step 6. Determine whether there’s a connection between age and family situation by creating a line chart exploring the connections between age and number of dependents\n",
    "\n",
    "Step 7. Explore whether there’s a connection between age and spending power (income)."
   ]
  },
  {
   "cell_type": "markdown",
   "id": "d4348ea6",
   "metadata": {},
   "source": [
    "### 00. Importing Libraries and Data"
   ]
  },
  {
   "cell_type": "code",
   "execution_count": 1,
   "id": "0dc3b0f0",
   "metadata": {},
   "outputs": [],
   "source": [
    "# Import libraries\n",
    "\n",
    "import pandas as pd\n",
    "import numpy as np\n",
    "import os\n",
    "import matplotlib.pyplot as plt\n",
    "import seaborn as sns\n",
    "import scipy"
   ]
  },
  {
   "cell_type": "code",
   "execution_count": 2,
   "id": "7520b920",
   "metadata": {},
   "outputs": [],
   "source": [
    "# Create a folderpath shortcut\n",
    "\n",
    "path = r'C:\\Users\\Victoria\\Desktop\\Data Analytics Career Foundry\\4.0 Python Fundamentals for Data Analysts\\Instacart Basket Analysis'"
   ]
  },
  {
   "cell_type": "code",
   "execution_count": 3,
   "id": "6d7a5242",
   "metadata": {},
   "outputs": [],
   "source": [
    "# Import 'orders_products_customers_merged.pkl' as ic_data\n",
    "\n",
    "ic_data = pd.read_pickle(os.path.join(path, '02 Data', 'Prepared Data', 'orders_products_customers_merged.pkl'))"
   ]
  },
  {
   "cell_type": "code",
   "execution_count": 4,
   "id": "3ceb6bb3",
   "metadata": {},
   "outputs": [
    {
     "data": {
      "text/html": [
       "<div>\n",
       "<style scoped>\n",
       "    .dataframe tbody tr th:only-of-type {\n",
       "        vertical-align: middle;\n",
       "    }\n",
       "\n",
       "    .dataframe tbody tr th {\n",
       "        vertical-align: top;\n",
       "    }\n",
       "\n",
       "    .dataframe thead th {\n",
       "        text-align: right;\n",
       "    }\n",
       "</style>\n",
       "<table border=\"1\" class=\"dataframe\">\n",
       "  <thead>\n",
       "    <tr style=\"text-align: right;\">\n",
       "      <th></th>\n",
       "      <th>order_id</th>\n",
       "      <th>user_id</th>\n",
       "      <th>order_number</th>\n",
       "      <th>orders_day_of_the_week</th>\n",
       "      <th>order_hour_of_day</th>\n",
       "      <th>days_since_prior_order</th>\n",
       "      <th>product_id</th>\n",
       "      <th>add_to_cart_order</th>\n",
       "      <th>reordered</th>\n",
       "      <th>product_name</th>\n",
       "      <th>...</th>\n",
       "      <th>order_frequency_flag</th>\n",
       "      <th>first_name</th>\n",
       "      <th>last_name</th>\n",
       "      <th>gender</th>\n",
       "      <th>state</th>\n",
       "      <th>age</th>\n",
       "      <th>date_joined</th>\n",
       "      <th>n_dependants</th>\n",
       "      <th>fam_status</th>\n",
       "      <th>income</th>\n",
       "    </tr>\n",
       "  </thead>\n",
       "  <tbody>\n",
       "    <tr>\n",
       "      <th>0</th>\n",
       "      <td>2539329</td>\n",
       "      <td>1</td>\n",
       "      <td>1</td>\n",
       "      <td>2</td>\n",
       "      <td>8</td>\n",
       "      <td>NaN</td>\n",
       "      <td>196</td>\n",
       "      <td>1</td>\n",
       "      <td>0</td>\n",
       "      <td>Soda</td>\n",
       "      <td>...</td>\n",
       "      <td>Non-frequent customer</td>\n",
       "      <td>Linda</td>\n",
       "      <td>Nguyen</td>\n",
       "      <td>Female</td>\n",
       "      <td>Alabama</td>\n",
       "      <td>31</td>\n",
       "      <td>2/17/2019</td>\n",
       "      <td>3</td>\n",
       "      <td>married</td>\n",
       "      <td>40423</td>\n",
       "    </tr>\n",
       "    <tr>\n",
       "      <th>1</th>\n",
       "      <td>2398795</td>\n",
       "      <td>1</td>\n",
       "      <td>2</td>\n",
       "      <td>3</td>\n",
       "      <td>7</td>\n",
       "      <td>15.0</td>\n",
       "      <td>196</td>\n",
       "      <td>1</td>\n",
       "      <td>1</td>\n",
       "      <td>Soda</td>\n",
       "      <td>...</td>\n",
       "      <td>Non-frequent customer</td>\n",
       "      <td>Linda</td>\n",
       "      <td>Nguyen</td>\n",
       "      <td>Female</td>\n",
       "      <td>Alabama</td>\n",
       "      <td>31</td>\n",
       "      <td>2/17/2019</td>\n",
       "      <td>3</td>\n",
       "      <td>married</td>\n",
       "      <td>40423</td>\n",
       "    </tr>\n",
       "    <tr>\n",
       "      <th>2</th>\n",
       "      <td>473747</td>\n",
       "      <td>1</td>\n",
       "      <td>3</td>\n",
       "      <td>3</td>\n",
       "      <td>12</td>\n",
       "      <td>21.0</td>\n",
       "      <td>196</td>\n",
       "      <td>1</td>\n",
       "      <td>1</td>\n",
       "      <td>Soda</td>\n",
       "      <td>...</td>\n",
       "      <td>Non-frequent customer</td>\n",
       "      <td>Linda</td>\n",
       "      <td>Nguyen</td>\n",
       "      <td>Female</td>\n",
       "      <td>Alabama</td>\n",
       "      <td>31</td>\n",
       "      <td>2/17/2019</td>\n",
       "      <td>3</td>\n",
       "      <td>married</td>\n",
       "      <td>40423</td>\n",
       "    </tr>\n",
       "    <tr>\n",
       "      <th>3</th>\n",
       "      <td>2254736</td>\n",
       "      <td>1</td>\n",
       "      <td>4</td>\n",
       "      <td>4</td>\n",
       "      <td>7</td>\n",
       "      <td>29.0</td>\n",
       "      <td>196</td>\n",
       "      <td>1</td>\n",
       "      <td>1</td>\n",
       "      <td>Soda</td>\n",
       "      <td>...</td>\n",
       "      <td>Non-frequent customer</td>\n",
       "      <td>Linda</td>\n",
       "      <td>Nguyen</td>\n",
       "      <td>Female</td>\n",
       "      <td>Alabama</td>\n",
       "      <td>31</td>\n",
       "      <td>2/17/2019</td>\n",
       "      <td>3</td>\n",
       "      <td>married</td>\n",
       "      <td>40423</td>\n",
       "    </tr>\n",
       "    <tr>\n",
       "      <th>4</th>\n",
       "      <td>431534</td>\n",
       "      <td>1</td>\n",
       "      <td>5</td>\n",
       "      <td>4</td>\n",
       "      <td>15</td>\n",
       "      <td>28.0</td>\n",
       "      <td>196</td>\n",
       "      <td>1</td>\n",
       "      <td>1</td>\n",
       "      <td>Soda</td>\n",
       "      <td>...</td>\n",
       "      <td>Non-frequent customer</td>\n",
       "      <td>Linda</td>\n",
       "      <td>Nguyen</td>\n",
       "      <td>Female</td>\n",
       "      <td>Alabama</td>\n",
       "      <td>31</td>\n",
       "      <td>2/17/2019</td>\n",
       "      <td>3</td>\n",
       "      <td>married</td>\n",
       "      <td>40423</td>\n",
       "    </tr>\n",
       "  </tbody>\n",
       "</table>\n",
       "<p>5 rows × 33 columns</p>\n",
       "</div>"
      ],
      "text/plain": [
       "   order_id  user_id  order_number  orders_day_of_the_week  order_hour_of_day  \\\n",
       "0   2539329        1             1                       2                  8   \n",
       "1   2398795        1             2                       3                  7   \n",
       "2    473747        1             3                       3                 12   \n",
       "3   2254736        1             4                       4                  7   \n",
       "4    431534        1             5                       4                 15   \n",
       "\n",
       "   days_since_prior_order  product_id  add_to_cart_order  reordered  \\\n",
       "0                     NaN         196                  1          0   \n",
       "1                    15.0         196                  1          1   \n",
       "2                    21.0         196                  1          1   \n",
       "3                    29.0         196                  1          1   \n",
       "4                    28.0         196                  1          1   \n",
       "\n",
       "  product_name  ...   order_frequency_flag  first_name  last_name  gender  \\\n",
       "0         Soda  ...  Non-frequent customer       Linda     Nguyen  Female   \n",
       "1         Soda  ...  Non-frequent customer       Linda     Nguyen  Female   \n",
       "2         Soda  ...  Non-frequent customer       Linda     Nguyen  Female   \n",
       "3         Soda  ...  Non-frequent customer       Linda     Nguyen  Female   \n",
       "4         Soda  ...  Non-frequent customer       Linda     Nguyen  Female   \n",
       "\n",
       "     state age date_joined n_dependants  fam_status income  \n",
       "0  Alabama  31   2/17/2019            3     married  40423  \n",
       "1  Alabama  31   2/17/2019            3     married  40423  \n",
       "2  Alabama  31   2/17/2019            3     married  40423  \n",
       "3  Alabama  31   2/17/2019            3     married  40423  \n",
       "4  Alabama  31   2/17/2019            3     married  40423  \n",
       "\n",
       "[5 rows x 33 columns]"
      ]
     },
     "execution_count": 4,
     "metadata": {},
     "output_type": "execute_result"
    }
   ],
   "source": [
    "# Check import\n",
    "\n",
    "ic_data.head()"
   ]
  },
  {
   "cell_type": "markdown",
   "id": "ef43a3ae",
   "metadata": {},
   "source": [
    "### 01. Create a bar chart"
   ]
  },
  {
   "cell_type": "code",
   "execution_count": 15,
   "id": "ae50d920",
   "metadata": {},
   "outputs": [
    {
     "data": {
      "image/png": "[encoded data removed]",
      "text/plain": [
       "<Figure size 640x480 with 1 Axes>"
      ]
     },
     "metadata": {},
     "output_type": "display_data"
    }
   ],
   "source": [
    "# Create a bar chart using the sort_index() function and colors\n",
    "\n",
    "bar_1 = ic_data['orders_day_of_the_week'].value_counts().sort_index().plot.bar(color=sns.color_palette('GnBu', 7))\n",
    "plt.title('Orders by Day of the Week')\n",
    "plt.show()"
   ]
  },
  {
   "cell_type": "code",
   "execution_count": 16,
   "id": "e76765b5",
   "metadata": {},
   "outputs": [],
   "source": [
    "# Export bar_1\n",
    "\n",
    "bar_1.figure.savefig(os.path.join(path, '04 Analysis','Visualizations', 'bar_1_odw.png'))"
   ]
  },
  {
   "cell_type": "markdown",
   "id": "47dc25e4",
   "metadata": {},
   "source": [
    "### 02. Create a histogram"
   ]
  },
  {
   "cell_type": "code",
   "execution_count": null,
   "id": "49b69564",
   "metadata": {},
   "outputs": [],
   "source": [
    "# Create a histogram of the 'prices' column\n",
    "\n",
    "ic_data['prices'].plot.hist(bins = 25)"
   ]
  },
  {
   "cell_type": "code",
   "execution_count": null,
   "id": "ce2e2fa2",
   "metadata": {},
   "outputs": [],
   "source": [
    "# Create a histogram of the 'prices' column\n",
    "\n",
    "ic_data['prices'].plot.hist(bins = 75, color=sns.color_palette('GnBu', 7))\n",
    "plt.title('Price ')\n",
    "plt.show())"
   ]
  },
  {
   "cell_type": "markdown",
   "id": "1807ce19",
   "metadata": {},
   "source": [
    "### 03. Create a scatterplot"
   ]
  },
  {
   "cell_type": "code",
   "execution_count": null,
   "id": "4f044bc7",
   "metadata": {},
   "outputs": [],
   "source": [
    "# Create a scatterplot of the 'prices' column\n",
    "\n",
    "scatter_1 = sns.scatterplot(x = 'prices', y = 'prices',data = ic_data)"
   ]
  },
  {
   "cell_type": "code",
   "execution_count": null,
   "id": "b991369d",
   "metadata": {},
   "outputs": [],
   "source": [
    "# Export scatter_1\n",
    "\n",
    "scatter_1.figure.savefig(os.path.join(path, '04 Analysis','Visualizations', 'scatter_1_prices.png'))"
   ]
  },
  {
   "cell_type": "markdown",
   "id": "f005ebfb",
   "metadata": {},
   "source": [
    "### 04. Create a line chart using a sample subset"
   ]
  },
  {
   "cell_type": "code",
   "execution_count": 4,
   "id": "8afe2c80",
   "metadata": {},
   "outputs": [],
   "source": [
    "# Creating a 70/30 sample\n",
    "# Create a list holding True/False values to the test np.random.rand() <= 0.7\n",
    "\n",
    "np.random.seed(4)\n",
    "dev = np.random.rand(len(ic_data)) <= 0.7"
   ]
  },
  {
   "cell_type": "code",
   "execution_count": 5,
   "id": "94c5a34f",
   "metadata": {},
   "outputs": [],
   "source": [
    "# Store 70% of the sample in the dataframe big\n",
    "\n",
    "big = ic_data[dev]"
   ]
  },
  {
   "cell_type": "code",
   "execution_count": 6,
   "id": "98e743c3",
   "metadata": {},
   "outputs": [],
   "source": [
    "# Store 30% of the sample in the dataframe small\n",
    "\n",
    "small = ic_data[~dev]"
   ]
  },
  {
   "cell_type": "code",
   "execution_count": null,
   "id": "b821ac41",
   "metadata": {},
   "outputs": [],
   "source": [
    "# Check the len of ords_prods_merge and compare to big + small\n",
    "\n",
    "len(ic_data)"
   ]
  },
  {
   "cell_type": "code",
   "execution_count": null,
   "id": "7550017d",
   "metadata": {},
   "outputs": [],
   "source": [
    "len(big) + len(small)"
   ]
  },
  {
   "cell_type": "code",
   "execution_count": 7,
   "id": "cefabe60",
   "metadata": {},
   "outputs": [],
   "source": [
    "# Speed up processing time by creating a subset of small that only holds necessary columns to create line chart\n",
    "\n",
    "df_2 = small[['orders_day_of_the_week','prices']]"
   ]
  },
  {
   "cell_type": "code",
   "execution_count": 8,
   "id": "4b3b2c15",
   "metadata": {},
   "outputs": [
    {
     "data": {
      "image/png": "[encoded data removed]",
      "text/plain": [
       "<Figure size 640x480 with 1 Axes>"
      ]
     },
     "metadata": {},
     "output_type": "display_data"
    }
   ],
   "source": [
    "# Create a line chart\n",
    "\n",
    "line = sns.lineplot(data = df_2, x = 'orders_day_of_the_week',y = 'prices')"
   ]
  },
  {
   "cell_type": "code",
   "execution_count": null,
   "id": "5848df97",
   "metadata": {},
   "outputs": [],
   "source": [
    "# Export line graph as .png\n",
    "\n",
    "line.figure.savefig(os.path.join(path, '04 Analysis','Visualizations', 'line_orders_dow_prices.png'))"
   ]
  },
  {
   "cell_type": "markdown",
   "id": "65b32902",
   "metadata": {},
   "source": [
    "### 05. Exercise Task\n",
    "\n",
    "#### Step 3: Create a histogram of the “order_hour_of_day” column."
   ]
  },
  {
   "cell_type": "code",
   "execution_count": 9,
   "id": "db5d048c",
   "metadata": {},
   "outputs": [
    {
     "data": {
      "image/png": "[encoded data removed]",
      "text/plain": [
       "<Figure size 640x480 with 1 Axes>"
      ]
     },
     "metadata": {},
     "output_type": "display_data"
    }
   ],
   "source": [
    "# Create a histogram for 'order_hour_of_day' with 24 bins as there are 24 hours in a day\n",
    "\n",
    "hist_3 = ic_data['order_hour_of_day'].plot.hist(bins = 24)"
   ]
  },
  {
   "cell_type": "markdown",
   "id": "eb153b45",
   "metadata": {},
   "source": [
    "##### Explanation\n",
    "\n",
    "The histogram demostrates the frequency of shoppers throughout the day. The lowest frequency is between hours 0-6. The  frequency of shoppers begins to pickup between hours 7-9. The peak hours are between 10-16. Frequency drops off after hour 16 relatively consistently until hour 23."
   ]
  },
  {
   "cell_type": "code",
   "execution_count": null,
   "id": "c8586c39",
   "metadata": {},
   "outputs": [],
   "source": [
    "# Export hist_3\n",
    "\n",
    "hist_3.figure.savefig(os.path.join(path, '04 Analysis','Visualizations', 'hist_3_order_hour_of_day.png'))"
   ]
  },
  {
   "cell_type": "markdown",
   "id": "4d46a12f",
   "metadata": {},
   "source": [
    "#### Step 4: Create a bar chart from the “loyalty_flag” column."
   ]
  },
  {
   "cell_type": "code",
   "execution_count": null,
   "id": "173e1219",
   "metadata": {},
   "outputs": [],
   "source": [
    "# Create a bar from the 'loyalty_flag' column\n",
    "\n",
    "bar_2 = ic_data['loyalty_flag'].value_counts().plot.bar(color = ['green', 'orange', 'blue'])"
   ]
  },
  {
   "cell_type": "code",
   "execution_count": null,
   "id": "0cedf710",
   "metadata": {},
   "outputs": [],
   "source": [
    "# Export bar_2\n",
    "\n",
    "bar_2.figure.savefig(os.path.join(path, '04 Analysis','Visualizations', 'bar_2_loyalty_flag.png'))"
   ]
  },
  {
   "cell_type": "markdown",
   "id": "7f469ecd",
   "metadata": {},
   "source": [
    "#### Step 5: Check whether there’s a difference in expenditure (the “prices” column) depending on the hour of the day."
   ]
  },
  {
   "cell_type": "code",
   "execution_count": null,
   "id": "05db3763",
   "metadata": {},
   "outputs": [],
   "source": [
    "# Samples created earlier will work for this\n",
    "#Line Chart to determine if there's a difference in expenditure between hour of day and prices\n",
    "\n",
    "df_line = small[['order_hour_of_day', 'prices']]"
   ]
  },
  {
   "cell_type": "code",
   "execution_count": null,
   "id": "ff2e7eb1",
   "metadata": {},
   "outputs": [],
   "source": [
    "# Creating the line chart\n",
    "\n",
    "line_2 = sns.lineplot(data = df_line, x = 'order_hour_of_day', y = 'prices')"
   ]
  },
  {
   "cell_type": "code",
   "execution_count": null,
   "id": "98c3dd82",
   "metadata": {},
   "outputs": [],
   "source": [
    "# Export line_2\n",
    "\n",
    "line_2.figure.savefig(os.path.join(path, '04 Analysis','Visualizations', 'line_2_order_hour_of_day_prices.png'))"
   ]
  },
  {
   "cell_type": "markdown",
   "id": "b1b00042",
   "metadata": {},
   "source": [
    "#### Step 6: Determine whether there’s a connection between age and family situation by creating a line chart exploring the connections between age and number of dependents"
   ]
  },
  {
   "cell_type": "code",
   "execution_count": null,
   "id": "b94fbdbd",
   "metadata": {},
   "outputs": [],
   "source": [
    "# Samples created earlier will work for this\n",
    "#Line Chart to determine if there's a connection between 'age' and 'n_dependents'\n",
    "\n",
    "df_line_2 = small[['age', 'n_dependants']]"
   ]
  },
  {
   "cell_type": "code",
   "execution_count": null,
   "id": "492ccb2a",
   "metadata": {},
   "outputs": [],
   "source": [
    "# Creating the line chart\n",
    "\n",
    "line_3 = sns.lineplot(data = df_line_2, x = 'age', y = 'n_dependants')"
   ]
  },
  {
   "cell_type": "markdown",
   "id": "4ef4eb97",
   "metadata": {},
   "source": [
    "##### Explanation\n",
    "\n",
    "There is not an apparent connection between age and number of dependants upon first glance. \n",
    "\n",
    "There are some interesting observations though. \n",
    "\n",
    "The 20's age group seems somewhat erratic. Many people begin having children (dependants) around this age period but others do not. This age group could have a plethora of targed adds ranging anywhere from alcohol to infant supplies.\n",
    "\n",
    "This applies to the 30's group too. Age 18-19 seems to have quite a large spike as well. This age group too could have a plethora of targed adds ranging anywhere from alcohol to infant supplies.\n",
    "\n",
    "The 40's has an upward trend which would suggest having children (dependants) that are in middle school or high school, which may determine what they shop for. \n",
    "\n",
    "The large spike in the age 60 spot could indicate adults caring for elderly family members. This could affect shoping habits. \n",
    "\n",
    "Overall, there is great variability in age and dependents."
   ]
  },
  {
   "cell_type": "code",
   "execution_count": null,
   "id": "9116b3c4",
   "metadata": {},
   "outputs": [],
   "source": [
    "# Export line_3\n",
    "\n",
    "line_3.figure.savefig(os.path.join(path, '04 Analysis','Visualizations', 'line_3_age_dependants.png'))"
   ]
  },
  {
   "cell_type": "markdown",
   "id": "2c584495",
   "metadata": {},
   "source": [
    "#### Step 7: Explore whether there’s a connection between age and spending power (income)."
   ]
  },
  {
   "cell_type": "code",
   "execution_count": null,
   "id": "745b6e55",
   "metadata": {},
   "outputs": [],
   "source": [
    "# Create a scatterplot of 'age' and 'income'\n",
    "\n",
    "scatter_2 = sns.scatterplot(x = 'age', y = 'income',data = ic_data)"
   ]
  },
  {
   "cell_type": "markdown",
   "id": "85510eae",
   "metadata": {},
   "source": [
    "##### Explanation\n",
    "\n",
    "The vast majority across all age groups tend to be making under 200K. Nobody under the age of 40 is making above 400K.  \n",
    "\n",
    "The majority of the population of those 40 years of age and older is making up to 300K. There are some who make up to 600k. Income tends to increase around age 40. Some jump from 400K to 600K or from 200K to 300K, but either way, this is where the income change takes place generally. This could be for many reasons."
   ]
  },
  {
   "cell_type": "code",
   "execution_count": null,
   "id": "78ec307c",
   "metadata": {},
   "outputs": [],
   "source": [
    "# Export scatter_2\n",
    "\n",
    "scatter_2.figure.savefig(os.path.join(path, '04 Analysis','Visualizations', 'scatter_2_age_income.png'))"
   ]
  }
 ],
 "metadata": {
  "kernelspec": {
   "display_name": "Python 3 (ipykernel)",
   "language": "python",
   "name": "python3"
  },
  "language_info": {
   "codemirror_mode": {
    "name": "ipython",
    "version": 3
   },
   "file_extension": ".py",
   "mimetype": "text/x-python",
   "name": "python",
   "nbconvert_exporter": "python",
   "pygments_lexer": "ipython3",
   "version": "3.10.9"
  }
 },
 "nbformat": 4,
 "nbformat_minor": 5
}
