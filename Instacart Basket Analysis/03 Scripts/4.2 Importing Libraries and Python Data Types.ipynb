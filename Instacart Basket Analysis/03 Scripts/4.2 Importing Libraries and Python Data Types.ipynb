{
 "cells": [
  {
   "cell_type": "markdown",
   "id": "1efd18ad",
   "metadata": {},
   "source": [
    "# 1 Import Libraries"
   ]
  },
  {
   "cell_type": "code",
   "execution_count": 1,
   "id": "dbb81b61",
   "metadata": {},
   "outputs": [],
   "source": [
    "#Import libraries\n",
    "import pandas as pd\n",
    "import numpy as np\n",
    "import os"
   ]
  },
  {
   "cell_type": "markdown",
   "id": "b1b21406",
   "metadata": {},
   "source": [
    "# 2 Python Data Types"
   ]
  },
  {
   "cell_type": "code",
   "execution_count": null,
   "id": "dd224b24",
   "metadata": {},
   "outputs": [],
   "source": [
    "#Code 3 different ways pf reaching aresult of 100 by adding or subtracting numeric variables"
   ]
  },
  {
   "cell_type": "code",
   "execution_count": null,
   "id": "4081d842",
   "metadata": {},
   "outputs": [],
   "source": [
    "#Method One"
   ]
  },
  {
   "cell_type": "code",
   "execution_count": 2,
   "id": "c2f8c11b",
   "metadata": {},
   "outputs": [],
   "source": [
    "x = 50"
   ]
  },
  {
   "cell_type": "code",
   "execution_count": 3,
   "id": "2dfd5a85",
   "metadata": {},
   "outputs": [
    {
     "data": {
      "text/plain": [
       "100"
      ]
     },
     "execution_count": 3,
     "metadata": {},
     "output_type": "execute_result"
    }
   ],
   "source": [
    "x + x"
   ]
  },
  {
   "cell_type": "code",
   "execution_count": null,
   "id": "96ea5966",
   "metadata": {},
   "outputs": [],
   "source": [
    "#Method Two"
   ]
  },
  {
   "cell_type": "code",
   "execution_count": 4,
   "id": "c65efffb",
   "metadata": {},
   "outputs": [],
   "source": [
    "y = 150"
   ]
  },
  {
   "cell_type": "code",
   "execution_count": 6,
   "id": "2b0e2390",
   "metadata": {},
   "outputs": [
    {
     "data": {
      "text/plain": [
       "100"
      ]
     },
     "execution_count": 6,
     "metadata": {},
     "output_type": "execute_result"
    }
   ],
   "source": [
    "y - x"
   ]
  },
  {
   "cell_type": "code",
   "execution_count": null,
   "id": "df349728",
   "metadata": {},
   "outputs": [],
   "source": [
    "#Method 3"
   ]
  },
  {
   "cell_type": "code",
   "execution_count": 7,
   "id": "7e16d43b",
   "metadata": {},
   "outputs": [],
   "source": [
    "z = 25"
   ]
  },
  {
   "cell_type": "code",
   "execution_count": 8,
   "id": "bb252bc6",
   "metadata": {},
   "outputs": [
    {
     "data": {
      "text/plain": [
       "100"
      ]
     },
     "execution_count": 8,
     "metadata": {},
     "output_type": "execute_result"
    }
   ],
   "source": [
    "x + z + z"
   ]
  },
  {
   "cell_type": "code",
   "execution_count": null,
   "id": "28e76dd4",
   "metadata": {},
   "outputs": [],
   "source": [
    "#Code 2 floating-point variables and divide them by each other"
   ]
  },
  {
   "cell_type": "code",
   "execution_count": 9,
   "id": "deb85172",
   "metadata": {},
   "outputs": [],
   "source": [
    "a = 97.6"
   ]
  },
  {
   "cell_type": "code",
   "execution_count": 10,
   "id": "d112e503",
   "metadata": {},
   "outputs": [],
   "source": [
    "b = 2.3"
   ]
  },
  {
   "cell_type": "code",
   "execution_count": 11,
   "id": "b98850b6",
   "metadata": {},
   "outputs": [
    {
     "data": {
      "text/plain": [
       "42.434782608695656"
      ]
     },
     "execution_count": 11,
     "metadata": {},
     "output_type": "execute_result"
    }
   ],
   "source": [
    "a / b"
   ]
  },
  {
   "cell_type": "code",
   "execution_count": null,
   "id": "4106071b",
   "metadata": {},
   "outputs": [],
   "source": [
    "#Construct a short word made of seperate strings (you'll need to concatenate strings together!)"
   ]
  },
  {
   "cell_type": "code",
   "execution_count": 13,
   "id": "fc31542b",
   "metadata": {},
   "outputs": [],
   "source": [
    "j = 'ch'"
   ]
  },
  {
   "cell_type": "code",
   "execution_count": 14,
   "id": "072a27bf",
   "metadata": {},
   "outputs": [],
   "source": [
    "k = 'oco'"
   ]
  },
  {
   "cell_type": "code",
   "execution_count": 15,
   "id": "852a2a53",
   "metadata": {},
   "outputs": [],
   "source": [
    "l = 'late'"
   ]
  },
  {
   "cell_type": "code",
   "execution_count": 16,
   "id": "0e413b27",
   "metadata": {},
   "outputs": [
    {
     "data": {
      "text/plain": [
       "'chocolate'"
      ]
     },
     "execution_count": 16,
     "metadata": {},
     "output_type": "execute_result"
    }
   ],
   "source": [
    "j + k + l"
   ]
  },
  {
   "cell_type": "code",
   "execution_count": null,
   "id": "ef5b57cc",
   "metadata": {},
   "outputs": [],
   "source": [
    "#Construct 2 short sentences made of seperate strings"
   ]
  },
  {
   "cell_type": "code",
   "execution_count": null,
   "id": "f3949d9f",
   "metadata": {},
   "outputs": [],
   "source": [
    "#Sentence One"
   ]
  },
  {
   "cell_type": "code",
   "execution_count": 25,
   "id": "67db39b1",
   "metadata": {},
   "outputs": [],
   "source": [
    "q = 'Hey, did you '"
   ]
  },
  {
   "cell_type": "code",
   "execution_count": 26,
   "id": "6647bb1b",
   "metadata": {},
   "outputs": [],
   "source": [
    "r = 'eat all the chocolate?'"
   ]
  },
  {
   "cell_type": "code",
   "execution_count": 27,
   "id": "293db41f",
   "metadata": {},
   "outputs": [
    {
     "data": {
      "text/plain": [
       "'Hey, did you eat all the chocolate?'"
      ]
     },
     "execution_count": 27,
     "metadata": {},
     "output_type": "execute_result"
    }
   ],
   "source": [
    "q + r"
   ]
  },
  {
   "cell_type": "code",
   "execution_count": null,
   "id": "b0e5d174",
   "metadata": {},
   "outputs": [],
   "source": [
    "#Sentence Two"
   ]
  },
  {
   "cell_type": "code",
   "execution_count": 28,
   "id": "253c4551",
   "metadata": {},
   "outputs": [],
   "source": [
    "s = '*Face covered in chocolate*'"
   ]
  },
  {
   "cell_type": "code",
   "execution_count": 29,
   "id": "fdfc796c",
   "metadata": {},
   "outputs": [],
   "source": [
    "t = ' No, why would '"
   ]
  },
  {
   "cell_type": "code",
   "execution_count": 30,
   "id": "d1526b76",
   "metadata": {},
   "outputs": [],
   "source": [
    "u = 'you think that?'"
   ]
  },
  {
   "cell_type": "code",
   "execution_count": 31,
   "id": "583334e5",
   "metadata": {},
   "outputs": [
    {
     "data": {
      "text/plain": [
       "'*Face covered in chocolate* No, why would you think that?'"
      ]
     },
     "execution_count": 31,
     "metadata": {},
     "output_type": "execute_result"
    }
   ],
   "source": [
    "s + t + u"
   ]
  },
  {
   "cell_type": "code",
   "execution_count": null,
   "id": "332b866d",
   "metadata": {},
   "outputs": [],
   "source": [
    "#Bonus: Include a command that makes a string appear 100 times"
   ]
  },
  {
   "cell_type": "code",
   "execution_count": 34,
   "id": "9c4cf615",
   "metadata": {},
   "outputs": [],
   "source": [
    "v = 'cheese, please! '"
   ]
  },
  {
   "cell_type": "code",
   "execution_count": 35,
   "id": "aea227a1",
   "metadata": {},
   "outputs": [
    {
     "data": {
      "text/plain": [
       "'cheese, please! cheese, please! cheese, please! cheese, please! cheese, please! cheese, please! cheese, please! cheese, please! cheese, please! cheese, please! cheese, please! cheese, please! cheese, please! cheese, please! cheese, please! cheese, please! cheese, please! cheese, please! cheese, please! cheese, please! cheese, please! cheese, please! cheese, please! cheese, please! cheese, please! cheese, please! cheese, please! cheese, please! cheese, please! cheese, please! cheese, please! cheese, please! cheese, please! cheese, please! cheese, please! cheese, please! cheese, please! cheese, please! cheese, please! cheese, please! cheese, please! cheese, please! cheese, please! cheese, please! cheese, please! cheese, please! cheese, please! cheese, please! cheese, please! cheese, please! cheese, please! cheese, please! cheese, please! cheese, please! cheese, please! cheese, please! cheese, please! cheese, please! cheese, please! cheese, please! cheese, please! cheese, please! cheese, please! cheese, please! cheese, please! cheese, please! cheese, please! cheese, please! cheese, please! cheese, please! cheese, please! cheese, please! cheese, please! cheese, please! cheese, please! cheese, please! cheese, please! cheese, please! cheese, please! cheese, please! cheese, please! cheese, please! cheese, please! cheese, please! cheese, please! cheese, please! cheese, please! cheese, please! cheese, please! cheese, please! cheese, please! cheese, please! cheese, please! cheese, please! cheese, please! cheese, please! cheese, please! cheese, please! cheese, please! cheese, please! '"
      ]
     },
     "execution_count": 35,
     "metadata": {},
     "output_type": "execute_result"
    }
   ],
   "source": [
    "v * 100"
   ]
  },
  {
   "cell_type": "code",
   "execution_count": null,
   "id": "07c424c0",
   "metadata": {},
   "outputs": [],
   "source": []
  }
 ],
 "metadata": {
  "kernelspec": {
   "display_name": "Python 3 (ipykernel)",
   "language": "python",
   "name": "python3"
  },
  "language_info": {
   "codemirror_mode": {
    "name": "ipython",
    "version": 3
   },
   "file_extension": ".py",
   "mimetype": "text/x-python",
   "name": "python",
   "nbconvert_exporter": "python",
   "pygments_lexer": "ipython3",
   "version": "3.10.9"
  }
 },
 "nbformat": 4,
 "nbformat_minor": 5
}
